{
 "metadata": {
  "name": "",
  "signature": "sha256:b06815e2ed8cf07674c46f61d39d9f04ceb3cd8b54b5a273e8abe60039f8d14d"
 },
 "nbformat": 3,
 "nbformat_minor": 0,
 "worksheets": [
  {
   "cells": [
    {
     "cell_type": "code",
     "collapsed": false,
     "input": [
      "import nltk\n",
      "from nltk.corpus import brown\n",
      "import re\n",
      "from nltk.corpus import stopwords\n",
      "from nltk.corpus import wordnet as wn\n",
      "from nltk.stem import WordNetLemmatizer\n",
      "from string import punctuation\n",
      "from os import path, pardir\n",
      "import sys\n",
      "import pandas as pd\n",
      "from pandas import DataFrame, Series\n",
      "import numpy as np\n",
      "from bs4 import BeautifulSoup\n",
      "from collections import defaultdict\n",
      "from IPython.html import widgets\n",
      "from IPython.display import display\n",
      "import seaborn as sns\n",
      "import matplotlib.pyplot as plt\n",
      "%matplotlib inline"
     ],
     "language": "python",
     "metadata": {},
     "outputs": [],
     "prompt_number": 1
    },
    {
     "cell_type": "heading",
     "level": 1,
     "metadata": {},
     "source": [
      "Read in Job Metadata"
     ]
    },
    {
     "cell_type": "markdown",
     "metadata": {},
     "source": [
      "Read in the job description data and keep columns that might be interesting in analysis"
     ]
    },
    {
     "cell_type": "code",
     "collapsed": false,
     "input": [
      "jobs_all = pd.io.pickle.read_pickle(path.join(pardir, 'data', 'job_descriptions.pkl'))\n",
      "jobs_all.head()"
     ],
     "language": "python",
     "metadata": {},
     "outputs": [
      {
       "html": [
        "<div style=\"max-height:1000px;max-width:1500px;overflow:auto;\">\n",
        "<table border=\"1\" class=\"dataframe\">\n",
        "  <thead>\n",
        "    <tr style=\"text-align: right;\">\n",
        "      <th></th>\n",
        "      <th>ApplyURL</th>\n",
        "      <th>BasicJobBranding</th>\n",
        "      <th>BeginDate</th>\n",
        "      <th>BlankApplicationServiceURL</th>\n",
        "      <th>Categories</th>\n",
        "      <th>CategoriesCodes</th>\n",
        "      <th>Company</th>\n",
        "      <th>CompanyDID</th>\n",
        "      <th>CompanyDetailsURL</th>\n",
        "      <th>CompanyImageURL</th>\n",
        "      <th>CompanyJobSearchURL</th>\n",
        "      <th>ContactInfoEmailURL</th>\n",
        "      <th>ContactInfoFax</th>\n",
        "      <th>ContactInfoName</th>\n",
        "      <th>ContactInfoPhone</th>\n",
        "      <th>CustomApplyType</th>\n",
        "      <th>DID</th>\n",
        "      <th>DegreeRequired</th>\n",
        "      <th>DegreeRequiredCode</th>\n",
        "      <th>DisplayJobID</th>\n",
        "      <th></th>\n",
        "    </tr>\n",
        "  </thead>\n",
        "  <tbody>\n",
        "    <tr>\n",
        "      <th>0</th>\n",
        "      <td> http://api.careerbuilder.com/v1/application/ap...</td>\n",
        "      <td> NaN</td>\n",
        "      <td> 10/12/2014</td>\n",
        "      <td> http://api.careerbuilder.com/v1/application/bl...</td>\n",
        "      <td>   Sales,  Business Development,  Management</td>\n",
        "      <td> JN011,JN019,JN037</td>\n",
        "      <td> Largent &amp; Associates LLC</td>\n",
        "      <td> CHS3SX6C15LNF4HRQ6Q</td>\n",
        "      <td> http://www.careerbuilder.com/jobs/company/chs3...</td>\n",
        "      <td> http://emj.icbdr.com/MediaManagement/2G/MVC6X3...</td>\n",
        "      <td> http://www.careerbuilder.com/jobs/company/chs3...</td>\n",
        "      <td> http://www.careerbuilder.com/jobseeker/applyon...</td>\n",
        "      <td> NaN</td>\n",
        "      <td> Largent &amp; Associates</td>\n",
        "      <td>          NaN</td>\n",
        "      <td> CANONE</td>\n",
        "      <td> JHL4PY5YCYWRKR5SR63</td>\n",
        "      <td> 4 Year Degree</td>\n",
        "      <td> DR32</td>\n",
        "      <td> 495 Sales Dir West</td>\n",
        "      <td>...</td>\n",
        "    </tr>\n",
        "    <tr>\n",
        "      <th>1</th>\n",
        "      <td> http://api.careerbuilder.com/v1/application/ap...</td>\n",
        "      <td> NaN</td>\n",
        "      <td> 10/12/2014</td>\n",
        "      <td> http://api.careerbuilder.com/v1/application/bl...</td>\n",
        "      <td>                                    Training</td>\n",
        "      <td>             JN032</td>\n",
        "      <td>                      NaN</td>\n",
        "      <td>                 NaN</td>\n",
        "      <td>                                               NaN</td>\n",
        "      <td>                                               NaN</td>\n",
        "      <td>                                               NaN</td>\n",
        "      <td> http://www.careerbuilder.com/jobseeker/applyon...</td>\n",
        "      <td> NaN</td>\n",
        "      <td>                  NaN</td>\n",
        "      <td>          NaN</td>\n",
        "      <td> CANONE</td>\n",
        "      <td> J3H6HZ6HJ4RMVWCG7HZ</td>\n",
        "      <td> 4 Year Degree</td>\n",
        "      <td> DR32</td>\n",
        "      <td>           US-27377</td>\n",
        "      <td>...</td>\n",
        "    </tr>\n",
        "    <tr>\n",
        "      <th>2</th>\n",
        "      <td> http://api.careerbuilder.com/v1/application/ap...</td>\n",
        "      <td> NaN</td>\n",
        "      <td> 10/12/2014</td>\n",
        "      <td> http://api.careerbuilder.com/v1/application/bl...</td>\n",
        "      <td>                                       Sales</td>\n",
        "      <td>             JN011</td>\n",
        "      <td>                   Sunrun</td>\n",
        "      <td> CHQ010614MZ6J2S07V4</td>\n",
        "      <td> http://www.careerbuilder.com/jobs/company/chq0...</td>\n",
        "      <td> http://emj.icbdr.com/MediaManagement/G0/MVM81W...</td>\n",
        "      <td> http://www.careerbuilder.com/jobs/company/chq0...</td>\n",
        "      <td> http://www.careerbuilder.com/jobseeker/applyon...</td>\n",
        "      <td> NaN</td>\n",
        "      <td>                  NaN</td>\n",
        "      <td>          NaN</td>\n",
        "      <td> CANONE</td>\n",
        "      <td> J3H3BC6PGK27KG7YZLN</td>\n",
        "      <td> Not Specified</td>\n",
        "      <td> DRNS</td>\n",
        "      <td>               1069</td>\n",
        "      <td>...</td>\n",
        "    </tr>\n",
        "    <tr>\n",
        "      <th>3</th>\n",
        "      <td> http://api.careerbuilder.com/v1/application/ap...</td>\n",
        "      <td> NaN</td>\n",
        "      <td> 10/12/2014</td>\n",
        "      <td> http://api.careerbuilder.com/v1/application/bl...</td>\n",
        "      <td> Construction,  Sales,  Business Opportunity</td>\n",
        "      <td> JN043,JN011,JN059</td>\n",
        "      <td>       The Master's Touch</td>\n",
        "      <td> CHM2YN5WGB2C3NX62RY</td>\n",
        "      <td> http://www.careerbuilder.com/jobs/company/chm2...</td>\n",
        "      <td> http://emj.icbdr.com/MediaManagement/DN/MVD3D5...</td>\n",
        "      <td> http://www.careerbuilder.com/jobs/company/chm2...</td>\n",
        "      <td> http://www.careerbuilder.com/jobseeker/applyon...</td>\n",
        "      <td> NaN</td>\n",
        "      <td>        Dustin Nelson</td>\n",
        "      <td> 623-889-0313</td>\n",
        "      <td> CANONE</td>\n",
        "      <td> JHR71P6BGWQYFCSN5ZW</td>\n",
        "      <td> Not Specified</td>\n",
        "      <td> DRNS</td>\n",
        "      <td>                NaN</td>\n",
        "      <td>...</td>\n",
        "    </tr>\n",
        "    <tr>\n",
        "      <th>4</th>\n",
        "      <td> http://api.careerbuilder.com/v1/application/ap...</td>\n",
        "      <td> NaN</td>\n",
        "      <td> 10/12/2014</td>\n",
        "      <td> http://api.careerbuilder.com/v1/application/bl...</td>\n",
        "      <td>                                       Sales</td>\n",
        "      <td>             JN011</td>\n",
        "      <td>                   Sunrun</td>\n",
        "      <td> CHQ010614MZ6J2S07V4</td>\n",
        "      <td> http://www.careerbuilder.com/jobs/company/chq0...</td>\n",
        "      <td> http://emj.icbdr.com/MediaManagement/G0/MVM81W...</td>\n",
        "      <td> http://www.careerbuilder.com/jobs/company/chq0...</td>\n",
        "      <td> http://www.careerbuilder.com/jobseeker/applyon...</td>\n",
        "      <td> NaN</td>\n",
        "      <td>                  NaN</td>\n",
        "      <td>          NaN</td>\n",
        "      <td> CANONE</td>\n",
        "      <td> J3H5FV6N2RZXBQKJ2ZZ</td>\n",
        "      <td> 4 Year Degree</td>\n",
        "      <td> DR32</td>\n",
        "      <td>                732</td>\n",
        "      <td>...</td>\n",
        "    </tr>\n",
        "  </tbody>\n",
        "</table>\n",
        "<p>5 rows \u00d7 66 columns</p>\n",
        "</div>"
       ],
       "metadata": {},
       "output_type": "pyout",
       "prompt_number": 2,
       "text": [
        "                                            ApplyURL BasicJobBranding  \\\n",
        "0  http://api.careerbuilder.com/v1/application/ap...              NaN   \n",
        "1  http://api.careerbuilder.com/v1/application/ap...              NaN   \n",
        "2  http://api.careerbuilder.com/v1/application/ap...              NaN   \n",
        "3  http://api.careerbuilder.com/v1/application/ap...              NaN   \n",
        "4  http://api.careerbuilder.com/v1/application/ap...              NaN   \n",
        "\n",
        "    BeginDate                         BlankApplicationServiceURL  \\\n",
        "0  10/12/2014  http://api.careerbuilder.com/v1/application/bl...   \n",
        "1  10/12/2014  http://api.careerbuilder.com/v1/application/bl...   \n",
        "2  10/12/2014  http://api.careerbuilder.com/v1/application/bl...   \n",
        "3  10/12/2014  http://api.careerbuilder.com/v1/application/bl...   \n",
        "4  10/12/2014  http://api.careerbuilder.com/v1/application/bl...   \n",
        "\n",
        "                                    Categories    CategoriesCodes  \\\n",
        "0    Sales,  Business Development,  Management  JN011,JN019,JN037   \n",
        "1                                     Training              JN032   \n",
        "2                                        Sales              JN011   \n",
        "3  Construction,  Sales,  Business Opportunity  JN043,JN011,JN059   \n",
        "4                                        Sales              JN011   \n",
        "\n",
        "                    Company           CompanyDID  \\\n",
        "0  Largent & Associates LLC  CHS3SX6C15LNF4HRQ6Q   \n",
        "1                       NaN                  NaN   \n",
        "2                    Sunrun  CHQ010614MZ6J2S07V4   \n",
        "3        The Master's Touch  CHM2YN5WGB2C3NX62RY   \n",
        "4                    Sunrun  CHQ010614MZ6J2S07V4   \n",
        "\n",
        "                                   CompanyDetailsURL  \\\n",
        "0  http://www.careerbuilder.com/jobs/company/chs3...   \n",
        "1                                                NaN   \n",
        "2  http://www.careerbuilder.com/jobs/company/chq0...   \n",
        "3  http://www.careerbuilder.com/jobs/company/chm2...   \n",
        "4  http://www.careerbuilder.com/jobs/company/chq0...   \n",
        "\n",
        "                                     CompanyImageURL  \\\n",
        "0  http://emj.icbdr.com/MediaManagement/2G/MVC6X3...   \n",
        "1                                                NaN   \n",
        "2  http://emj.icbdr.com/MediaManagement/G0/MVM81W...   \n",
        "3  http://emj.icbdr.com/MediaManagement/DN/MVD3D5...   \n",
        "4  http://emj.icbdr.com/MediaManagement/G0/MVM81W...   \n",
        "\n",
        "                                 CompanyJobSearchURL  \\\n",
        "0  http://www.careerbuilder.com/jobs/company/chs3...   \n",
        "1                                                NaN   \n",
        "2  http://www.careerbuilder.com/jobs/company/chq0...   \n",
        "3  http://www.careerbuilder.com/jobs/company/chm2...   \n",
        "4  http://www.careerbuilder.com/jobs/company/chq0...   \n",
        "\n",
        "                                 ContactInfoEmailURL ContactInfoFax  \\\n",
        "0  http://www.careerbuilder.com/jobseeker/applyon...            NaN   \n",
        "1  http://www.careerbuilder.com/jobseeker/applyon...            NaN   \n",
        "2  http://www.careerbuilder.com/jobseeker/applyon...            NaN   \n",
        "3  http://www.careerbuilder.com/jobseeker/applyon...            NaN   \n",
        "4  http://www.careerbuilder.com/jobseeker/applyon...            NaN   \n",
        "\n",
        "        ContactInfoName ContactInfoPhone CustomApplyType                  DID  \\\n",
        "0  Largent & Associates              NaN          CANONE  JHL4PY5YCYWRKR5SR63   \n",
        "1                   NaN              NaN          CANONE  J3H6HZ6HJ4RMVWCG7HZ   \n",
        "2                   NaN              NaN          CANONE  J3H3BC6PGK27KG7YZLN   \n",
        "3         Dustin Nelson     623-889-0313          CANONE  JHR71P6BGWQYFCSN5ZW   \n",
        "4                   NaN              NaN          CANONE  J3H5FV6N2RZXBQKJ2ZZ   \n",
        "\n",
        "  DegreeRequired DegreeRequiredCode        DisplayJobID      \n",
        "0  4 Year Degree               DR32  495 Sales Dir West ...  \n",
        "1  4 Year Degree               DR32            US-27377 ...  \n",
        "2  Not Specified               DRNS                1069 ...  \n",
        "3  Not Specified               DRNS                 NaN ...  \n",
        "4  4 Year Degree               DR32                 732 ...  \n",
        "\n",
        "[5 rows x 66 columns]"
       ]
      }
     ],
     "prompt_number": 2
    },
    {
     "cell_type": "code",
     "collapsed": false,
     "input": [
      "jobs = jobs_all[['DID','Categories', 'Company', 'DegreeRequired','ExperienceRequired','JobTitle','LocationCity', 'ManagesOthersString','IndustryCodes']]\n",
      "jobs.set_index('DID', inplace=True)\n",
      "jobs.head()"
     ],
     "language": "python",
     "metadata": {},
     "outputs": [
      {
       "html": [
        "<div style=\"max-height:1000px;max-width:1500px;overflow:auto;\">\n",
        "<table border=\"1\" class=\"dataframe\">\n",
        "  <thead>\n",
        "    <tr style=\"text-align: right;\">\n",
        "      <th></th>\n",
        "      <th>Categories</th>\n",
        "      <th>Company</th>\n",
        "      <th>DegreeRequired</th>\n",
        "      <th>ExperienceRequired</th>\n",
        "      <th>JobTitle</th>\n",
        "      <th>LocationCity</th>\n",
        "      <th>ManagesOthersString</th>\n",
        "      <th>IndustryCodes</th>\n",
        "    </tr>\n",
        "    <tr>\n",
        "      <th>DID</th>\n",
        "      <th></th>\n",
        "      <th></th>\n",
        "      <th></th>\n",
        "      <th></th>\n",
        "      <th></th>\n",
        "      <th></th>\n",
        "      <th></th>\n",
        "      <th></th>\n",
        "    </tr>\n",
        "  </thead>\n",
        "  <tbody>\n",
        "    <tr>\n",
        "      <th>JHL4PY5YCYWRKR5SR63</th>\n",
        "      <td>   Sales,  Business Development,  Management</td>\n",
        "      <td> Largent &amp; Associates LLC</td>\n",
        "      <td> 4 Year Degree</td>\n",
        "      <td> At least 5 year(s)</td>\n",
        "      <td>         Divisional Sales Director, Western Region</td>\n",
        "      <td> San Francisco</td>\n",
        "      <td>     Yes</td>\n",
        "      <td>               IND024</td>\n",
        "    </tr>\n",
        "    <tr>\n",
        "      <th>J3H6HZ6HJ4RMVWCG7HZ</th>\n",
        "      <td>                                    Training</td>\n",
        "      <td>                      NaN</td>\n",
        "      <td> 4 Year Degree</td>\n",
        "      <td>       4 to 5 years</td>\n",
        "      <td>                         Field Training Specialist</td>\n",
        "      <td> San Francisco</td>\n",
        "      <td> Unknown</td>\n",
        "      <td>               IND034</td>\n",
        "    </tr>\n",
        "    <tr>\n",
        "      <th>J3H3BC6PGK27KG7YZLN</th>\n",
        "      <td>                                       Sales</td>\n",
        "      <td>                   Sunrun</td>\n",
        "      <td> Not Specified</td>\n",
        "      <td> At least 3 year(s)</td>\n",
        "      <td>     Instructional Designer, Retail Sales Training</td>\n",
        "      <td> San Francisco</td>\n",
        "      <td> Unknown</td>\n",
        "      <td>               IND017</td>\n",
        "    </tr>\n",
        "    <tr>\n",
        "      <th>JHR71P6BGWQYFCSN5ZW</th>\n",
        "      <td> Construction,  Sales,  Business Opportunity</td>\n",
        "      <td>       The Master's Touch</td>\n",
        "      <td> Not Specified</td>\n",
        "      <td>      Not Specified</td>\n",
        "      <td> Stop Looking Now! Imagine the Freedom of Final...</td>\n",
        "      <td>      Norcross</td>\n",
        "      <td>      No</td>\n",
        "      <td> IND010,IND061,IND034</td>\n",
        "    </tr>\n",
        "    <tr>\n",
        "      <th>J3H5FV6N2RZXBQKJ2ZZ</th>\n",
        "      <td>                                       Sales</td>\n",
        "      <td>                   Sunrun</td>\n",
        "      <td> 4 Year Degree</td>\n",
        "      <td>       4 to 6 years</td>\n",
        "      <td>              Director, FP&amp;A - Sales and Marketing</td>\n",
        "      <td> San Francisco</td>\n",
        "      <td> Unknown</td>\n",
        "      <td>               IND017</td>\n",
        "    </tr>\n",
        "  </tbody>\n",
        "</table>\n",
        "<p>5 rows \u00d7 8 columns</p>\n",
        "</div>"
       ],
       "metadata": {},
       "output_type": "pyout",
       "prompt_number": 3,
       "text": [
        "                                                      Categories  \\\n",
        "DID                                                                \n",
        "JHL4PY5YCYWRKR5SR63    Sales,  Business Development,  Management   \n",
        "J3H6HZ6HJ4RMVWCG7HZ                                     Training   \n",
        "J3H3BC6PGK27KG7YZLN                                        Sales   \n",
        "JHR71P6BGWQYFCSN5ZW  Construction,  Sales,  Business Opportunity   \n",
        "J3H5FV6N2RZXBQKJ2ZZ                                        Sales   \n",
        "\n",
        "                                      Company DegreeRequired  \\\n",
        "DID                                                            \n",
        "JHL4PY5YCYWRKR5SR63  Largent & Associates LLC  4 Year Degree   \n",
        "J3H6HZ6HJ4RMVWCG7HZ                       NaN  4 Year Degree   \n",
        "J3H3BC6PGK27KG7YZLN                    Sunrun  Not Specified   \n",
        "JHR71P6BGWQYFCSN5ZW        The Master's Touch  Not Specified   \n",
        "J3H5FV6N2RZXBQKJ2ZZ                    Sunrun  4 Year Degree   \n",
        "\n",
        "                     ExperienceRequired  \\\n",
        "DID                                       \n",
        "JHL4PY5YCYWRKR5SR63  At least 5 year(s)   \n",
        "J3H6HZ6HJ4RMVWCG7HZ        4 to 5 years   \n",
        "J3H3BC6PGK27KG7YZLN  At least 3 year(s)   \n",
        "JHR71P6BGWQYFCSN5ZW       Not Specified   \n",
        "J3H5FV6N2RZXBQKJ2ZZ        4 to 6 years   \n",
        "\n",
        "                                                              JobTitle  \\\n",
        "DID                                                                      \n",
        "JHL4PY5YCYWRKR5SR63          Divisional Sales Director, Western Region   \n",
        "J3H6HZ6HJ4RMVWCG7HZ                          Field Training Specialist   \n",
        "J3H3BC6PGK27KG7YZLN      Instructional Designer, Retail Sales Training   \n",
        "JHR71P6BGWQYFCSN5ZW  Stop Looking Now! Imagine the Freedom of Final...   \n",
        "J3H5FV6N2RZXBQKJ2ZZ               Director, FP&A - Sales and Marketing   \n",
        "\n",
        "                      LocationCity ManagesOthersString         IndustryCodes  \n",
        "DID                                                                           \n",
        "JHL4PY5YCYWRKR5SR63  San Francisco                 Yes                IND024  \n",
        "J3H6HZ6HJ4RMVWCG7HZ  San Francisco             Unknown                IND034  \n",
        "J3H3BC6PGK27KG7YZLN  San Francisco             Unknown                IND017  \n",
        "JHR71P6BGWQYFCSN5ZW       Norcross                  No  IND010,IND061,IND034  \n",
        "J3H5FV6N2RZXBQKJ2ZZ  San Francisco             Unknown                IND017  \n",
        "\n",
        "[5 rows x 8 columns]"
       ]
      }
     ],
     "prompt_number": 3
    },
    {
     "cell_type": "markdown",
     "metadata": {},
     "source": [
      "Read in the search dataframe containing job IDs and associated metadata, and keep data useful for analysis"
     ]
    },
    {
     "cell_type": "code",
     "collapsed": false,
     "input": [
      "job_meta_all = pd.io.pickle.read_pickle(path.join(pardir, 'data', 'SF_jobs_Nov11.pkl'))\n",
      "job_meta_all.set_index('DID', inplace=True)"
     ],
     "language": "python",
     "metadata": {},
     "outputs": [],
     "prompt_number": 4
    },
    {
     "cell_type": "code",
     "collapsed": false,
     "input": [
      "job_meta = job_meta_all[['ONetFriendlyTitle','OnetCode','Skills']]\n",
      "job_meta.head()"
     ],
     "language": "python",
     "metadata": {},
     "outputs": [
      {
       "html": [
        "<div style=\"max-height:1000px;max-width:1500px;overflow:auto;\">\n",
        "<table border=\"1\" class=\"dataframe\">\n",
        "  <thead>\n",
        "    <tr style=\"text-align: right;\">\n",
        "      <th></th>\n",
        "      <th>ONetFriendlyTitle</th>\n",
        "      <th>OnetCode</th>\n",
        "      <th>Skills</th>\n",
        "    </tr>\n",
        "    <tr>\n",
        "      <th>DID</th>\n",
        "      <th></th>\n",
        "      <th></th>\n",
        "      <th></th>\n",
        "    </tr>\n",
        "  </thead>\n",
        "  <tbody>\n",
        "    <tr>\n",
        "      <th>JHN0TY6MD9CRHRCC533</th>\n",
        "      <td> Supervisors of Construction Trades and Extract...</td>\n",
        "      <td> 47-1011.00</td>\n",
        "      <td>                                              None</td>\n",
        "    </tr>\n",
        "    <tr>\n",
        "      <th>JHS76K739LB0F859HSQ</th>\n",
        "      <td>                                   Cost Estimators</td>\n",
        "      <td> 13-1051.00</td>\n",
        "      <td> {u'Skill': [u'Life insurance', u'Project manag...</td>\n",
        "    </tr>\n",
        "    <tr>\n",
        "      <th>J3J5ZX6XN7WKLPVW08V</th>\n",
        "      <td> Supervisors of Transportation, Machine and Veh...</td>\n",
        "      <td> 53-1031.00</td>\n",
        "      <td>   {u'Skill': u'Customer relationship management'}</td>\n",
        "    </tr>\n",
        "    <tr>\n",
        "      <th>JHT11579TXB4JS3MT4T</th>\n",
        "      <td>                              Industrial Engineers</td>\n",
        "      <td> 17-2112.00</td>\n",
        "      <td> {u'Skill': [u'Quality assurance', u'Performanc...</td>\n",
        "    </tr>\n",
        "    <tr>\n",
        "      <th>JHM4HJ5YZ9MCS161JFJ</th>\n",
        "      <td> Packaging and Filling Machine Operators and Te...</td>\n",
        "      <td> 51-9111.00</td>\n",
        "      <td>                                              None</td>\n",
        "    </tr>\n",
        "  </tbody>\n",
        "</table>\n",
        "<p>5 rows \u00d7 3 columns</p>\n",
        "</div>"
       ],
       "metadata": {},
       "output_type": "pyout",
       "prompt_number": 5,
       "text": [
        "                                                     ONetFriendlyTitle  \\\n",
        "DID                                                                      \n",
        "JHN0TY6MD9CRHRCC533  Supervisors of Construction Trades and Extract...   \n",
        "JHS76K739LB0F859HSQ                                    Cost Estimators   \n",
        "J3J5ZX6XN7WKLPVW08V  Supervisors of Transportation, Machine and Veh...   \n",
        "JHT11579TXB4JS3MT4T                               Industrial Engineers   \n",
        "JHM4HJ5YZ9MCS161JFJ  Packaging and Filling Machine Operators and Te...   \n",
        "\n",
        "                       OnetCode  \\\n",
        "DID                               \n",
        "JHN0TY6MD9CRHRCC533  47-1011.00   \n",
        "JHS76K739LB0F859HSQ  13-1051.00   \n",
        "J3J5ZX6XN7WKLPVW08V  53-1031.00   \n",
        "JHT11579TXB4JS3MT4T  17-2112.00   \n",
        "JHM4HJ5YZ9MCS161JFJ  51-9111.00   \n",
        "\n",
        "                                                                Skills  \n",
        "DID                                                                     \n",
        "JHN0TY6MD9CRHRCC533                                               None  \n",
        "JHS76K739LB0F859HSQ  {u'Skill': [u'Life insurance', u'Project manag...  \n",
        "J3J5ZX6XN7WKLPVW08V    {u'Skill': u'Customer relationship management'}  \n",
        "JHT11579TXB4JS3MT4T  {u'Skill': [u'Quality assurance', u'Performanc...  \n",
        "JHM4HJ5YZ9MCS161JFJ                                               None  \n",
        "\n",
        "[5 rows x 3 columns]"
       ]
      }
     ],
     "prompt_number": 5
    },
    {
     "cell_type": "markdown",
     "metadata": {},
     "source": [
      "Merge jobs and jobs_meta into a single dataframe to be merged with the feature frames"
     ]
    },
    {
     "cell_type": "code",
     "collapsed": false,
     "input": [
      "meta = pd.merge(jobs, job_meta, left_index=True, right_index=True)\n",
      "meta.head()"
     ],
     "language": "python",
     "metadata": {},
     "outputs": [
      {
       "html": [
        "<div style=\"max-height:1000px;max-width:1500px;overflow:auto;\">\n",
        "<table border=\"1\" class=\"dataframe\">\n",
        "  <thead>\n",
        "    <tr style=\"text-align: right;\">\n",
        "      <th></th>\n",
        "      <th>Categories</th>\n",
        "      <th>Company</th>\n",
        "      <th>DegreeRequired</th>\n",
        "      <th>ExperienceRequired</th>\n",
        "      <th>JobTitle</th>\n",
        "      <th>LocationCity</th>\n",
        "      <th>ManagesOthersString</th>\n",
        "      <th>IndustryCodes</th>\n",
        "      <th>ONetFriendlyTitle</th>\n",
        "      <th>OnetCode</th>\n",
        "      <th>Skills</th>\n",
        "    </tr>\n",
        "    <tr>\n",
        "      <th>DID</th>\n",
        "      <th></th>\n",
        "      <th></th>\n",
        "      <th></th>\n",
        "      <th></th>\n",
        "      <th></th>\n",
        "      <th></th>\n",
        "      <th></th>\n",
        "      <th></th>\n",
        "      <th></th>\n",
        "      <th></th>\n",
        "      <th></th>\n",
        "    </tr>\n",
        "  </thead>\n",
        "  <tbody>\n",
        "    <tr>\n",
        "      <th>J2X2G16X09BD2SFL7LJ</th>\n",
        "      <td> Insurance</td>\n",
        "      <td> Esurance Inc.</td>\n",
        "      <td> 4 Year Degree</td>\n",
        "      <td> At least 5 year(s)</td>\n",
        "      <td>                  Sr Product Manager</td>\n",
        "      <td> San Francisco</td>\n",
        "      <td> Unknown</td>\n",
        "      <td> IND025</td>\n",
        "      <td>                 Marketing Managers</td>\n",
        "      <td> 11-2021.00</td>\n",
        "      <td>                                              None</td>\n",
        "    </tr>\n",
        "    <tr>\n",
        "      <th>J2X2NR6BRXD91SVV2PL</th>\n",
        "      <td> Insurance</td>\n",
        "      <td> Esurance Inc.</td>\n",
        "      <td> 4 Year Degree</td>\n",
        "      <td> At least 8 year(s)</td>\n",
        "      <td>                 Development Manager</td>\n",
        "      <td> San Francisco</td>\n",
        "      <td> Unknown</td>\n",
        "      <td> IND025</td>\n",
        "      <td>          Computer Systems Analysts</td>\n",
        "      <td> 15-1051.00</td>\n",
        "      <td> {u'Skill': [u'web development', u'html', u'c-s...</td>\n",
        "    </tr>\n",
        "    <tr>\n",
        "      <th>J2X2WT5XK9CWW01BTXN</th>\n",
        "      <td> Insurance</td>\n",
        "      <td> Esurance Inc.</td>\n",
        "      <td> 4 Year Degree</td>\n",
        "      <td>      Not Specified</td>\n",
        "      <td>  Sr. MGR Compensation Benefits HRIS</td>\n",
        "      <td> San Francisco</td>\n",
        "      <td> Unknown</td>\n",
        "      <td> IND025</td>\n",
        "      <td> Compensation and Benefits Managers</td>\n",
        "      <td> 11-3041.00</td>\n",
        "      <td> {u'Skill': [u'Compensation &amp; Benefits', u'Prob...</td>\n",
        "    </tr>\n",
        "    <tr>\n",
        "      <th>J2X3GC6PFKDPL2ZSGC4</th>\n",
        "      <td> Insurance</td>\n",
        "      <td> Esurance Inc.</td>\n",
        "      <td> 4 Year Degree</td>\n",
        "      <td>       2 to 5 years</td>\n",
        "      <td>                        Data Analyst</td>\n",
        "      <td> San Francisco</td>\n",
        "      <td> Unknown</td>\n",
        "      <td> IND025</td>\n",
        "      <td>          Computer Systems Analysts</td>\n",
        "      <td> 15-1051.00</td>\n",
        "      <td> {u'Skill': [u'microsoft excel', u'oracle datab...</td>\n",
        "    </tr>\n",
        "    <tr>\n",
        "      <th>J2X5GF6ZS5V2G74JFM7</th>\n",
        "      <td> Insurance</td>\n",
        "      <td> Esurance Inc.</td>\n",
        "      <td> 4 Year Degree</td>\n",
        "      <td>    Up to 3 year(s)</td>\n",
        "      <td> Associate Ecommerce Product Manager</td>\n",
        "      <td> San Francisco</td>\n",
        "      <td> Unknown</td>\n",
        "      <td> IND025</td>\n",
        "      <td>                 Marketing Managers</td>\n",
        "      <td> 11-2021.00</td>\n",
        "      <td>                                              None</td>\n",
        "    </tr>\n",
        "  </tbody>\n",
        "</table>\n",
        "<p>5 rows \u00d7 11 columns</p>\n",
        "</div>"
       ],
       "metadata": {},
       "output_type": "pyout",
       "prompt_number": 6,
       "text": [
        "                    Categories        Company DegreeRequired  \\\n",
        "DID                                                            \n",
        "J2X2G16X09BD2SFL7LJ  Insurance  Esurance Inc.  4 Year Degree   \n",
        "J2X2NR6BRXD91SVV2PL  Insurance  Esurance Inc.  4 Year Degree   \n",
        "J2X2WT5XK9CWW01BTXN  Insurance  Esurance Inc.  4 Year Degree   \n",
        "J2X3GC6PFKDPL2ZSGC4  Insurance  Esurance Inc.  4 Year Degree   \n",
        "J2X5GF6ZS5V2G74JFM7  Insurance  Esurance Inc.  4 Year Degree   \n",
        "\n",
        "                     ExperienceRequired                             JobTitle  \\\n",
        "DID                                                                            \n",
        "J2X2G16X09BD2SFL7LJ  At least 5 year(s)                   Sr Product Manager   \n",
        "J2X2NR6BRXD91SVV2PL  At least 8 year(s)                  Development Manager   \n",
        "J2X2WT5XK9CWW01BTXN       Not Specified   Sr. MGR Compensation Benefits HRIS   \n",
        "J2X3GC6PFKDPL2ZSGC4        2 to 5 years                         Data Analyst   \n",
        "J2X5GF6ZS5V2G74JFM7     Up to 3 year(s)  Associate Ecommerce Product Manager   \n",
        "\n",
        "                      LocationCity ManagesOthersString IndustryCodes  \\\n",
        "DID                                                                    \n",
        "J2X2G16X09BD2SFL7LJ  San Francisco             Unknown        IND025   \n",
        "J2X2NR6BRXD91SVV2PL  San Francisco             Unknown        IND025   \n",
        "J2X2WT5XK9CWW01BTXN  San Francisco             Unknown        IND025   \n",
        "J2X3GC6PFKDPL2ZSGC4  San Francisco             Unknown        IND025   \n",
        "J2X5GF6ZS5V2G74JFM7  San Francisco             Unknown        IND025   \n",
        "\n",
        "                                      ONetFriendlyTitle    OnetCode  \\\n",
        "DID                                                                   \n",
        "J2X2G16X09BD2SFL7LJ                  Marketing Managers  11-2021.00   \n",
        "J2X2NR6BRXD91SVV2PL           Computer Systems Analysts  15-1051.00   \n",
        "J2X2WT5XK9CWW01BTXN  Compensation and Benefits Managers  11-3041.00   \n",
        "J2X3GC6PFKDPL2ZSGC4           Computer Systems Analysts  15-1051.00   \n",
        "J2X5GF6ZS5V2G74JFM7                  Marketing Managers  11-2021.00   \n",
        "\n",
        "                                                                Skills  \n",
        "DID                                                                     \n",
        "J2X2G16X09BD2SFL7LJ                                               None  \n",
        "J2X2NR6BRXD91SVV2PL  {u'Skill': [u'web development', u'html', u'c-s...  \n",
        "J2X2WT5XK9CWW01BTXN  {u'Skill': [u'Compensation & Benefits', u'Prob...  \n",
        "J2X3GC6PFKDPL2ZSGC4  {u'Skill': [u'microsoft excel', u'oracle datab...  \n",
        "J2X5GF6ZS5V2G74JFM7                                               None  \n",
        "\n",
        "[5 rows x 11 columns]"
       ]
      }
     ],
     "prompt_number": 6
    },
    {
     "cell_type": "markdown",
     "metadata": {},
     "source": [
      "The job categories look really useful- we can change them from a string to a list, then create a dataframe that we can use to associate categories with features"
     ]
    },
    {
     "cell_type": "code",
     "collapsed": false,
     "input": [
      "meta['CategoriesList'] = meta.Categories.apply(lambda x: x.split(', '))\n",
      "meta_categories = pd.DataFrame()\n",
      "for DID, data in meta.iterrows():\n",
      "    for cat in data.CategoriesList:\n",
      "        new_row = data\n",
      "        new_row['Category'] = cat.rstrip().lstrip()\n",
      "        meta_categories = meta_categories.append(new_row[['Category']])"
     ],
     "language": "python",
     "metadata": {},
     "outputs": [],
     "prompt_number": 7
    },
    {
     "cell_type": "code",
     "collapsed": false,
     "input": [
      "meta_categories.head(10)"
     ],
     "language": "python",
     "metadata": {},
     "outputs": [
      {
       "html": [
        "<div style=\"max-height:1000px;max-width:1500px;overflow:auto;\">\n",
        "<table border=\"1\" class=\"dataframe\">\n",
        "  <thead>\n",
        "    <tr style=\"text-align: right;\">\n",
        "      <th></th>\n",
        "      <th>Category</th>\n",
        "    </tr>\n",
        "  </thead>\n",
        "  <tbody>\n",
        "    <tr>\n",
        "      <th>J2X2G16X09BD2SFL7LJ</th>\n",
        "      <td>                 Insurance</td>\n",
        "    </tr>\n",
        "    <tr>\n",
        "      <th>J2X2NR6BRXD91SVV2PL</th>\n",
        "      <td>                 Insurance</td>\n",
        "    </tr>\n",
        "    <tr>\n",
        "      <th>J2X2WT5XK9CWW01BTXN</th>\n",
        "      <td>                 Insurance</td>\n",
        "    </tr>\n",
        "    <tr>\n",
        "      <th>J2X3GC6PFKDPL2ZSGC4</th>\n",
        "      <td>                 Insurance</td>\n",
        "    </tr>\n",
        "    <tr>\n",
        "      <th>J2X5GF6ZS5V2G74JFM7</th>\n",
        "      <td>                 Insurance</td>\n",
        "    </tr>\n",
        "    <tr>\n",
        "      <th>J2X5RM6G03X8JGL3JDD</th>\n",
        "      <td>                 Insurance</td>\n",
        "    </tr>\n",
        "    <tr>\n",
        "      <th>J2X71760KN02CSJKPPN</th>\n",
        "      <td>                 Insurance</td>\n",
        "    </tr>\n",
        "    <tr>\n",
        "      <th>J2X7H85VRGJN0N9S72K</th>\n",
        "      <td>          Customer Service</td>\n",
        "    </tr>\n",
        "    <tr>\n",
        "      <th>J2X7H85VRGJN0N9S72K</th>\n",
        "      <td> Restaurant - Food Service</td>\n",
        "    </tr>\n",
        "    <tr>\n",
        "      <th>J2X7H85VRGJN0N9S72K</th>\n",
        "      <td>                Management</td>\n",
        "    </tr>\n",
        "  </tbody>\n",
        "</table>\n",
        "<p>10 rows \u00d7 1 columns</p>\n",
        "</div>"
       ],
       "metadata": {},
       "output_type": "pyout",
       "prompt_number": 8,
       "text": [
        "                                      Category\n",
        "J2X2G16X09BD2SFL7LJ                  Insurance\n",
        "J2X2NR6BRXD91SVV2PL                  Insurance\n",
        "J2X2WT5XK9CWW01BTXN                  Insurance\n",
        "J2X3GC6PFKDPL2ZSGC4                  Insurance\n",
        "J2X5GF6ZS5V2G74JFM7                  Insurance\n",
        "J2X5RM6G03X8JGL3JDD                  Insurance\n",
        "J2X71760KN02CSJKPPN                  Insurance\n",
        "J2X7H85VRGJN0N9S72K           Customer Service\n",
        "J2X7H85VRGJN0N9S72K  Restaurant - Food Service\n",
        "J2X7H85VRGJN0N9S72K                 Management\n",
        "\n",
        "[10 rows x 1 columns]"
       ]
      }
     ],
     "prompt_number": 8
    },
    {
     "cell_type": "heading",
     "level": 1,
     "metadata": {},
     "source": [
      "Analyze Job Metadata"
     ]
    },
    {
     "cell_type": "code",
     "collapsed": false,
     "input": [
      "def countByColumn(frame, column):\n",
      "    countframe = frame.groupby(column).apply(len)\n",
      "    countframe.sort(ascending=False)\n",
      "    return countframe"
     ],
     "language": "python",
     "metadata": {},
     "outputs": [],
     "prompt_number": 9
    },
    {
     "cell_type": "code",
     "collapsed": false,
     "input": [
      "countByColumn(meta_categories, 'Category')[:20]"
     ],
     "language": "python",
     "metadata": {},
     "outputs": [
      {
       "metadata": {},
       "output_type": "pyout",
       "prompt_number": 10,
       "text": [
        "Category\n",
        "Sales                        1118\n",
        "Information Technology       1002\n",
        "Engineering                   643\n",
        "Retail                        597\n",
        "Management                    595\n",
        "Customer Service              582\n",
        "Health Care                   443\n",
        "Entry Level                   349\n",
        "Insurance                     310\n",
        "Professional Services         309\n",
        "Other                         295\n",
        "Accounting                    294\n",
        "Marketing                     270\n",
        "Finance                       255\n",
        "Transportation                245\n",
        "Business Development          238\n",
        "Skilled Labor - Trades        218\n",
        "Admin - Clerical              196\n",
        "Restaurant - Food Service     190\n",
        "Automotive                    181\n",
        "dtype: int64"
       ]
      }
     ],
     "prompt_number": 10
    },
    {
     "cell_type": "code",
     "collapsed": false,
     "input": [
      "countByColumn(meta, 'Company')[:20]"
     ],
     "language": "python",
     "metadata": {},
     "outputs": [
      {
       "metadata": {},
       "output_type": "pyout",
       "prompt_number": 11,
       "text": [
        "Company\n",
        "CyberCoders                             175\n",
        "Esurance Inc.                           148\n",
        "AT&T Retail                             126\n",
        "Volt                                     67\n",
        "Citrix                                   61\n",
        "Firestone Complete Auto Care             57\n",
        "SolarCity                                57\n",
        "CHI Payment Systems                      54\n",
        "Collabera Inc.                           53\n",
        "Robert Half Technology                   52\n",
        "Hilton WorldWide                         50\n",
        "Nigel Frank                              48\n",
        "Toys \"R\" Us, Inc                         47\n",
        "Macy's                                   47\n",
        "Enterprise Rent-A-Car                    46\n",
        "Bankers Life and Casualty Company        45\n",
        "Kelly Services                           44\n",
        "Conversant                               40\n",
        "Seton Medical Center                     40\n",
        "Robert Half Finance & Accounting U.S     39\n",
        "dtype: int64"
       ]
      }
     ],
     "prompt_number": 11
    },
    {
     "cell_type": "code",
     "collapsed": false,
     "input": [
      "countByColumn(meta, 'Categories')[:20]"
     ],
     "language": "python",
     "metadata": {},
     "outputs": [
      {
       "metadata": {},
       "output_type": "pyout",
       "prompt_number": 12,
       "text": [
        "Categories\n",
        "Information Technology                                          429\n",
        "Health Care                                                     220\n",
        "Sales                                                           200\n",
        "Insurance                                                       179\n",
        "Information Technology,  Engineering,  Professional Services    160\n",
        "Engineering                                                     160\n",
        "Other                                                           155\n",
        "Management                                                      122\n",
        "Accounting                                                       96\n",
        "Sales,  Retail                                                   90\n",
        "Retail                                                           72\n",
        "Telecommunications,  Retail,  Sales                              68\n",
        "Admin - Clerical                                                 66\n",
        "Manufacturing                                                    65\n",
        "Transportation                                                   63\n",
        "Marketing                                                        62\n",
        "Engineering,  Information Technology,  Design                    61\n",
        "Accounting,  Finance                                             61\n",
        "Restaurant - Food Service                                        57\n",
        "Human Resources                                                  50\n",
        "dtype: int64"
       ]
      }
     ],
     "prompt_number": 12
    },
    {
     "cell_type": "code",
     "collapsed": false,
     "input": [
      "countByColumn(meta, 'DegreeRequired')[:20]"
     ],
     "language": "python",
     "metadata": {},
     "outputs": [
      {
       "metadata": {},
       "output_type": "pyout",
       "prompt_number": 13,
       "text": [
        "DegreeRequired\n",
        "Not Specified      2918\n",
        "4 Year Degree      1365\n",
        "High School         760\n",
        "None                261\n",
        "2 Year Degree       227\n",
        "Graduate Degree      75\n",
        "Doctorate            12\n",
        "dtype: int64"
       ]
      }
     ],
     "prompt_number": 13
    },
    {
     "cell_type": "code",
     "collapsed": false,
     "input": [
      "countByColumn(meta, 'ManagesOthersString')[:20]"
     ],
     "language": "python",
     "metadata": {},
     "outputs": [
      {
       "metadata": {},
       "output_type": "pyout",
       "prompt_number": 14,
       "text": [
        "ManagesOthersString\n",
        "Unknown                4439\n",
        "No                      936\n",
        "Yes                     243\n",
        "dtype: int64"
       ]
      }
     ],
     "prompt_number": 14
    },
    {
     "cell_type": "code",
     "collapsed": false,
     "input": [
      "top_titles = countByColumn(meta, 'ONetFriendlyTitle')[:30]\n",
      "top_titles = top_titles.index\n",
      "top_titles"
     ],
     "language": "python",
     "metadata": {},
     "outputs": [
      {
       "metadata": {},
       "output_type": "pyout",
       "prompt_number": 15,
       "text": [
        "Index([u'Computer Software Engineers, Applications', u'Retail Salespersons', u'Marketing Managers', u'Supervisors of Retail Sales Staff', u'Web Developers', u'Truck Drivers, Heavy and Tractor-Trailer', u'Registered Nurses', u'Network and Computer Systems Administrators', u'Sales Reps (Services)', u'Accountants', u'Supervisors of Sales Staff (Non-Retail)', u'Sales Agents, Financial Services', u'Supervisors of Office and Administrative Staff', u'Sales Managers', u'Insurance Sales Agents', u'Computer Systems Analysts', u'Operations Managers', u'Software Quality Assurance Engineers and Testers', u'Information Technology Project Managers', u'Entrepreneurs Wanted - Business Opportunities', u'Industrial Engineers', u'Customer Service Representatives', u'Computer Support Specialists', u'Managers', u'Market Research Analysts', u'Sales Reps (Wholesale and Manufacturing)', u'Financial Managers, Branch or Department', u'Automotive Specialty Technicians', u'Personnel Recruiters', u'Services Offered'], dtype='object')"
       ]
      }
     ],
     "prompt_number": 15
    },
    {
     "cell_type": "code",
     "collapsed": false,
     "input": [
      "titles_for_display = top_titles.drop(['Sales Agents, Financial Services', \n",
      "                                      'Services Offered', 'Entrepreneurs Wanted - Business Opportunities']).tolist()\n",
      "titles_for_display"
     ],
     "language": "python",
     "metadata": {},
     "outputs": [
      {
       "metadata": {},
       "output_type": "pyout",
       "prompt_number": 16,
       "text": [
        "[u'Computer Software Engineers, Applications',\n",
        " u'Retail Salespersons',\n",
        " u'Marketing Managers',\n",
        " u'Supervisors of Retail Sales Staff',\n",
        " u'Web Developers',\n",
        " u'Truck Drivers, Heavy and Tractor-Trailer',\n",
        " u'Registered Nurses',\n",
        " u'Network and Computer Systems Administrators',\n",
        " u'Sales Reps (Services)',\n",
        " u'Accountants',\n",
        " u'Supervisors of Sales Staff (Non-Retail)',\n",
        " u'Supervisors of Office and Administrative Staff',\n",
        " u'Sales Managers',\n",
        " u'Insurance Sales Agents',\n",
        " u'Computer Systems Analysts',\n",
        " u'Operations Managers',\n",
        " u'Software Quality Assurance Engineers and Testers',\n",
        " u'Information Technology Project Managers',\n",
        " u'Industrial Engineers',\n",
        " u'Customer Service Representatives',\n",
        " u'Computer Support Specialists',\n",
        " u'Managers',\n",
        " u'Market Research Analysts',\n",
        " u'Sales Reps (Wholesale and Manufacturing)',\n",
        " u'Financial Managers, Branch or Department',\n",
        " u'Automotive Specialty Technicians',\n",
        " u'Personnel Recruiters']"
       ]
      }
     ],
     "prompt_number": 16
    },
    {
     "cell_type": "heading",
     "level": 1,
     "metadata": {},
     "source": [
      "Analyze Work Activities"
     ]
    },
    {
     "cell_type": "markdown",
     "metadata": {},
     "source": [
      "Read in the dataframe with the work activities"
     ]
    },
    {
     "cell_type": "code",
     "collapsed": false,
     "input": [
      "activities = pd.io.pickle.read_pickle(path.join(pardir, 'data', 'work_activities_dec14.pkl'))\n",
      "# activities.head()"
     ],
     "language": "python",
     "metadata": {},
     "outputs": [],
     "prompt_number": 17
    },
    {
     "cell_type": "markdown",
     "metadata": {},
     "source": [
      "Merge the activity data with the job metadata"
     ]
    },
    {
     "cell_type": "code",
     "collapsed": false,
     "input": [
      "activities.activity_bigrams = activities.activity_bigrams.apply(lambda x: [' '.join(item) for item in x])\n",
      "activities.activity_trigrams = activities.activity_trigrams.apply(lambda x: [' '.join(item) for item in x])\n",
      "activities.nouns = activities.nouns.apply(lambda x: [noun for noun in x if len(noun)>=3])\n",
      "activities.adjs = activities.adjs.apply(lambda x: [adj for adj in x if len(adj)>=3])\n",
      "activities.verbs = activities.verbs.apply(lambda x: [verb for verb in x if len(verb)>=3])"
     ],
     "language": "python",
     "metadata": {},
     "outputs": [],
     "prompt_number": 18
    },
    {
     "cell_type": "code",
     "collapsed": false,
     "input": [
      "activities_meta = pd.merge(meta, activities, left_index = True, right_index = True)\n",
      "# activities_meta.head()"
     ],
     "language": "python",
     "metadata": {},
     "outputs": [],
     "prompt_number": 19
    },
    {
     "cell_type": "code",
     "collapsed": false,
     "input": [
      "activities_cats = pd.merge(meta_categories, activities, left_index=True, right_index=True, how='left')\n",
      "# activities_cats.head()"
     ],
     "language": "python",
     "metadata": {},
     "outputs": [],
     "prompt_number": 20
    },
    {
     "cell_type": "markdown",
     "metadata": {},
     "source": [
      "Develop Framework around viewing frequency distributions of work activities for different breakdowns of the dataset. "
     ]
    },
    {
     "cell_type": "code",
     "collapsed": false,
     "input": [
      "def getResults(frame, column, value, result):\n",
      "    '''Function that takes in dataframe name, column to subset by, value to use for subset, and name of result column to aggregate'''\n",
      "    subset = frame[frame[column] == value]\n",
      "    analysis_column = subset[result].tolist()\n",
      "    results_flat = [value for row in analysis_column for value in row]\n",
      "    results_fd = nltk.FreqDist(results_flat)\n",
      "    return results_fd.items()"
     ],
     "language": "python",
     "metadata": {},
     "outputs": [],
     "prompt_number": 21
    },
    {
     "cell_type": "code",
     "collapsed": false,
     "input": [
      "# test = getResults(activities_meta, 'ONetFriendlyTitle', 'Registered Nurses', 'verbs')"
     ],
     "language": "python",
     "metadata": {},
     "outputs": [],
     "prompt_number": 22
    },
    {
     "cell_type": "code",
     "collapsed": false,
     "input": [
      "# test[:20]"
     ],
     "language": "python",
     "metadata": {},
     "outputs": [],
     "prompt_number": 23
    },
    {
     "cell_type": "code",
     "collapsed": false,
     "input": [
      "# getResults(activities_cats, 'Category', 'Sales','nouns')[:20]"
     ],
     "language": "python",
     "metadata": {},
     "outputs": [],
     "prompt_number": 24
    },
    {
     "cell_type": "code",
     "collapsed": false,
     "input": [
      "# getResults(activities_cats, 'Category', 'Sales','verbs')[:20]"
     ],
     "language": "python",
     "metadata": {},
     "outputs": [],
     "prompt_number": 25
    },
    {
     "cell_type": "code",
     "collapsed": false,
     "input": [
      "# getResults(activities_cats, 'Category', 'Sales','adjs')[:20]"
     ],
     "language": "python",
     "metadata": {},
     "outputs": [],
     "prompt_number": 26
    },
    {
     "cell_type": "code",
     "collapsed": false,
     "input": [
      "# getResults(activities_cats, 'Category', 'Sales','activity_bigrams')[:20]"
     ],
     "language": "python",
     "metadata": {},
     "outputs": [],
     "prompt_number": 27
    },
    {
     "cell_type": "code",
     "collapsed": false,
     "input": [
      "# getResults(activities_cats, 'Category', 'Sales','activity_trigrams')[:20]"
     ],
     "language": "python",
     "metadata": {},
     "outputs": [],
     "prompt_number": 28
    },
    {
     "cell_type": "code",
     "collapsed": false,
     "input": [
      "# getResults(activities_cats, 'Category', 'Automotive','lemma_work_activities')[:20]"
     ],
     "language": "python",
     "metadata": {},
     "outputs": [],
     "prompt_number": 29
    },
    {
     "cell_type": "heading",
     "level": 2,
     "metadata": {},
     "source": [
      "Analyzing Work Environment"
     ]
    },
    {
     "cell_type": "code",
     "collapsed": false,
     "input": [
      "environment = pd.io.pickle.read_pickle(path.join(pardir, 'data', 'work_environment_dec16.pkl'))\n",
      "# environment.head()"
     ],
     "language": "python",
     "metadata": {},
     "outputs": [],
     "prompt_number": 80
    },
    {
     "cell_type": "code",
     "collapsed": false,
     "input": [
      "environment.environ_bigrams = environment.environ_bigrams.apply(lambda x: [' '.join(item) for item in x])\n",
      "environment.environ_trigrams = environment.environ_trigrams.apply(lambda x: [' '.join(item) for item in x])\n",
      "environment.environ_nouns = environment.environ_nouns.apply(lambda x: [noun for noun in x if len(noun)>=3])\n",
      "environment.environ_adjs = environment.environ_adjs.apply(lambda x: [adj for adj in x if len(adj)>=3])\n",
      "environment.environ_verbs = environment.environ_verbs.apply(lambda x: [verb for verb in x if len(verb)>=3])"
     ],
     "language": "python",
     "metadata": {},
     "outputs": [],
     "prompt_number": 81
    },
    {
     "cell_type": "code",
     "collapsed": false,
     "input": [
      "environment_meta = pd.merge(meta, environment, left_index = True, right_index = True)\n",
      "# environment_meta.head()"
     ],
     "language": "python",
     "metadata": {},
     "outputs": [],
     "prompt_number": 82
    },
    {
     "cell_type": "code",
     "collapsed": false,
     "input": [
      "environment_cats = pd.merge(meta_categories, environment, left_index=True, right_index=True, how='left')\n",
      "# environment_cats.head()"
     ],
     "language": "python",
     "metadata": {},
     "outputs": [],
     "prompt_number": 83
    },
    {
     "cell_type": "heading",
     "level": 2,
     "metadata": {},
     "source": [
      "Analyzing Personal Characteristics"
     ]
    },
    {
     "cell_type": "code",
     "collapsed": false,
     "input": [
      "personal_char = pd.io.pickle.read_pickle(path.join(pardir, 'data', 'personal_char_dec16.pkl'))\n",
      "# personal_char.head()"
     ],
     "language": "python",
     "metadata": {},
     "outputs": [],
     "prompt_number": 89
    },
    {
     "cell_type": "code",
     "collapsed": false,
     "input": [
      "personal_char.personal_bigrams = personal_char.personal_bigrams.apply(lambda x: [' '.join(item) for item in x])\n",
      "personal_char.personal_trigrams = personal_char.personal_trigrams.apply(lambda x: [' '.join(item) for item in x])\n",
      "personal_char.personal_nouns = personal_char.personal_nouns.apply(lambda x: [noun for noun in x if len(noun)>=3])\n",
      "personal_char.personal_adjs = personal_char.personal_adjs.apply(lambda x: [adj for adj in x if len(adj)>=3])\n",
      "personal_char.personal_verbs = personal_char.personal_verbs.apply(lambda x: [verb for verb in x if len(verb)>=3])"
     ],
     "language": "python",
     "metadata": {},
     "outputs": [],
     "prompt_number": 90
    },
    {
     "cell_type": "code",
     "collapsed": false,
     "input": [
      "personal_char_meta = pd.merge(meta, personal_char, left_index = True, right_index = True)\n",
      "# environment_meta.head()"
     ],
     "language": "python",
     "metadata": {},
     "outputs": [],
     "prompt_number": 92
    },
    {
     "cell_type": "code",
     "collapsed": false,
     "input": [
      "personal_char_cats = pd.merge(meta_categories, personal_char, left_index=True, right_index=True, how='left')\n",
      "# environment_cats.head()"
     ],
     "language": "python",
     "metadata": {},
     "outputs": [],
     "prompt_number": 94
    },
    {
     "cell_type": "heading",
     "level": 1,
     "metadata": {},
     "source": [
      "Persuasion Scores"
     ]
    },
    {
     "cell_type": "code",
     "collapsed": false,
     "input": [
      "persuasion = pd.io.pickle.read_pickle(path.join(pardir, 'data', 'persuasion_dec15.pkl'))\n",
      "persuasion.head()"
     ],
     "language": "python",
     "metadata": {},
     "outputs": [
      {
       "html": [
        "<div style=\"max-height:1000px;max-width:1500px;overflow:auto;\">\n",
        "<table border=\"1\" class=\"dataframe\">\n",
        "  <thead>\n",
        "    <tr style=\"text-align: right;\">\n",
        "      <th></th>\n",
        "      <th>modals</th>\n",
        "      <th>infinitives</th>\n",
        "      <th>conditionals</th>\n",
        "      <th>punctuation</th>\n",
        "      <th>you</th>\n",
        "      <th>length</th>\n",
        "      <th>score</th>\n",
        "      <th>text</th>\n",
        "    </tr>\n",
        "    <tr>\n",
        "      <th>DID</th>\n",
        "      <th></th>\n",
        "      <th></th>\n",
        "      <th></th>\n",
        "      <th></th>\n",
        "      <th></th>\n",
        "      <th></th>\n",
        "      <th></th>\n",
        "      <th></th>\n",
        "    </tr>\n",
        "  </thead>\n",
        "  <tbody>\n",
        "    <tr>\n",
        "      <th>J3G02073QM7JHN7HFFR</th>\n",
        "      <td>      NaN</td>\n",
        "      <td>      NaN</td>\n",
        "      <td>      NaN</td>\n",
        "      <td>      NaN</td>\n",
        "      <td>      NaN</td>\n",
        "      <td> 0.000000</td>\n",
        "      <td>      NaN</td>\n",
        "      <td>                                                \\n</td>\n",
        "    </tr>\n",
        "    <tr>\n",
        "      <th>JHN34669WF8T78D9ZWZ</th>\n",
        "      <td> 0.000000</td>\n",
        "      <td> 0.640693</td>\n",
        "      <td> 0.497217</td>\n",
        "      <td> 0.441558</td>\n",
        "      <td> 0.865801</td>\n",
        "      <td> 0.039834</td>\n",
        "      <td> 2.485103</td>\n",
        "      <td> \\nDo you want to work in a RED HOT space?\\nBig...</td>\n",
        "    </tr>\n",
        "    <tr>\n",
        "      <th>JHP7BW6H92L6KFB0JST</th>\n",
        "      <td> 0.089552</td>\n",
        "      <td> 0.138060</td>\n",
        "      <td> 1.000000</td>\n",
        "      <td> 0.000000</td>\n",
        "      <td> 0.621891</td>\n",
        "      <td> 0.138645</td>\n",
        "      <td> 1.988147</td>\n",
        "      <td> \\nDescription\\nSan Jose / Entry Level / Market...</td>\n",
        "    </tr>\n",
        "    <tr>\n",
        "      <th>J3H8CZ6GFB8WB3GT29Q</th>\n",
        "      <td> 0.077670</td>\n",
        "      <td> 0.359223</td>\n",
        "      <td> 0.557559</td>\n",
        "      <td> 0.165049</td>\n",
        "      <td> 0.566343</td>\n",
        "      <td> 0.106570</td>\n",
        "      <td> 1.832414</td>\n",
        "      <td> \\nSunbelt Rentals is one of the largest equipm...</td>\n",
        "    </tr>\n",
        "    <tr>\n",
        "      <th>J3F84Y73Q8XJC95N3B5</th>\n",
        "      <td> 0.247788</td>\n",
        "      <td> 0.109145</td>\n",
        "      <td> 0.677623</td>\n",
        "      <td> 0.000000</td>\n",
        "      <td> 0.663717</td>\n",
        "      <td> 0.116917</td>\n",
        "      <td> 1.815189</td>\n",
        "      <td>  Ref ID: 00420-135638\\nClassification: Financi...</td>\n",
        "    </tr>\n",
        "  </tbody>\n",
        "</table>\n",
        "<p>5 rows \u00d7 8 columns</p>\n",
        "</div>"
       ],
       "metadata": {},
       "output_type": "pyout",
       "prompt_number": 30,
       "text": [
        "                       modals  infinitives  conditionals  punctuation  \\\n",
        "DID                                                                     \n",
        "J3G02073QM7JHN7HFFR       NaN          NaN           NaN          NaN   \n",
        "JHN34669WF8T78D9ZWZ  0.000000     0.640693      0.497217     0.441558   \n",
        "JHP7BW6H92L6KFB0JST  0.089552     0.138060      1.000000     0.000000   \n",
        "J3H8CZ6GFB8WB3GT29Q  0.077670     0.359223      0.557559     0.165049   \n",
        "J3F84Y73Q8XJC95N3B5  0.247788     0.109145      0.677623     0.000000   \n",
        "\n",
        "                          you    length     score  \\\n",
        "DID                                                 \n",
        "J3G02073QM7JHN7HFFR       NaN  0.000000       NaN   \n",
        "JHN34669WF8T78D9ZWZ  0.865801  0.039834  2.485103   \n",
        "JHP7BW6H92L6KFB0JST  0.621891  0.138645  1.988147   \n",
        "J3H8CZ6GFB8WB3GT29Q  0.566343  0.106570  1.832414   \n",
        "J3F84Y73Q8XJC95N3B5  0.663717  0.116917  1.815189   \n",
        "\n",
        "                                                                  text  \n",
        "DID                                                                     \n",
        "J3G02073QM7JHN7HFFR                                                 \\n  \n",
        "JHN34669WF8T78D9ZWZ  \\nDo you want to work in a RED HOT space?\\nBig...  \n",
        "JHP7BW6H92L6KFB0JST  \\nDescription\\nSan Jose / Entry Level / Market...  \n",
        "J3H8CZ6GFB8WB3GT29Q  \\nSunbelt Rentals is one of the largest equipm...  \n",
        "J3F84Y73Q8XJC95N3B5   Ref ID: 00420-135638\\nClassification: Financi...  \n",
        "\n",
        "[5 rows x 8 columns]"
       ]
      }
     ],
     "prompt_number": 30
    },
    {
     "cell_type": "code",
     "collapsed": false,
     "input": [
      "persuasion_meta = pd.merge(meta, persuasion, left_index=True, right_index=True)\n",
      "persuasion_meta.head()"
     ],
     "language": "python",
     "metadata": {},
     "outputs": [
      {
       "html": [
        "<div style=\"max-height:1000px;max-width:1500px;overflow:auto;\">\n",
        "<table border=\"1\" class=\"dataframe\">\n",
        "  <thead>\n",
        "    <tr style=\"text-align: right;\">\n",
        "      <th></th>\n",
        "      <th>Categories</th>\n",
        "      <th>Company</th>\n",
        "      <th>DegreeRequired</th>\n",
        "      <th>ExperienceRequired</th>\n",
        "      <th>JobTitle</th>\n",
        "      <th>LocationCity</th>\n",
        "      <th>ManagesOthersString</th>\n",
        "      <th>IndustryCodes</th>\n",
        "      <th>ONetFriendlyTitle</th>\n",
        "      <th>OnetCode</th>\n",
        "      <th>Skills</th>\n",
        "      <th>CategoriesList</th>\n",
        "      <th>modals</th>\n",
        "      <th>infinitives</th>\n",
        "      <th>conditionals</th>\n",
        "      <th>punctuation</th>\n",
        "      <th>you</th>\n",
        "      <th>length</th>\n",
        "      <th>score</th>\n",
        "      <th>text</th>\n",
        "    </tr>\n",
        "    <tr>\n",
        "      <th>DID</th>\n",
        "      <th></th>\n",
        "      <th></th>\n",
        "      <th></th>\n",
        "      <th></th>\n",
        "      <th></th>\n",
        "      <th></th>\n",
        "      <th></th>\n",
        "      <th></th>\n",
        "      <th></th>\n",
        "      <th></th>\n",
        "      <th></th>\n",
        "      <th></th>\n",
        "      <th></th>\n",
        "      <th></th>\n",
        "      <th></th>\n",
        "      <th></th>\n",
        "      <th></th>\n",
        "      <th></th>\n",
        "      <th></th>\n",
        "      <th></th>\n",
        "    </tr>\n",
        "  </thead>\n",
        "  <tbody>\n",
        "    <tr>\n",
        "      <th>J2X2G16X09BD2SFL7LJ</th>\n",
        "      <td> Insurance</td>\n",
        "      <td> Esurance Inc.</td>\n",
        "      <td> 4 Year Degree</td>\n",
        "      <td> At least 5 year(s)</td>\n",
        "      <td>                  Sr Product Manager</td>\n",
        "      <td> San Francisco</td>\n",
        "      <td> Unknown</td>\n",
        "      <td> IND025</td>\n",
        "      <td>                 Marketing Managers</td>\n",
        "      <td> 11-2021.00</td>\n",
        "      <td>                                              None</td>\n",
        "      <td> [Insurance]</td>\n",
        "      <td> 0</td>\n",
        "      <td> 0.179786</td>\n",
        "      <td> 0</td>\n",
        "      <td> 0</td>\n",
        "      <td> 0.048591</td>\n",
        "      <td> 0.177444</td>\n",
        "      <td> 0.405821</td>\n",
        "      <td> Summary:\\nManage overall profitability and gro...</td>\n",
        "    </tr>\n",
        "    <tr>\n",
        "      <th>J2X2NR6BRXD91SVV2PL</th>\n",
        "      <td> Insurance</td>\n",
        "      <td> Esurance Inc.</td>\n",
        "      <td> 4 Year Degree</td>\n",
        "      <td> At least 8 year(s)</td>\n",
        "      <td>                 Development Manager</td>\n",
        "      <td> San Francisco</td>\n",
        "      <td> Unknown</td>\n",
        "      <td> IND025</td>\n",
        "      <td>          Computer Systems Analysts</td>\n",
        "      <td> 15-1051.00</td>\n",
        "      <td> {u'Skill': [u'web development', u'html', u'c-s...</td>\n",
        "      <td> [Insurance]</td>\n",
        "      <td> 0</td>\n",
        "      <td> 0.226716</td>\n",
        "      <td> 0</td>\n",
        "      <td> 0</td>\n",
        "      <td> 0.061275</td>\n",
        "      <td> 0.140714</td>\n",
        "      <td> 0.428704</td>\n",
        "      <td> Summary:\\nManages applications development act...</td>\n",
        "    </tr>\n",
        "    <tr>\n",
        "      <th>J2X2WT5XK9CWW01BTXN</th>\n",
        "      <td> Insurance</td>\n",
        "      <td> Esurance Inc.</td>\n",
        "      <td> 4 Year Degree</td>\n",
        "      <td>      Not Specified</td>\n",
        "      <td>  Sr. MGR Compensation Benefits HRIS</td>\n",
        "      <td> San Francisco</td>\n",
        "      <td> Unknown</td>\n",
        "      <td> IND025</td>\n",
        "      <td> Compensation and Benefits Managers</td>\n",
        "      <td> 11-3041.00</td>\n",
        "      <td> {u'Skill': [u'Compensation &amp; Benefits', u'Prob...</td>\n",
        "      <td> [Insurance]</td>\n",
        "      <td> 0</td>\n",
        "      <td> 0.251060</td>\n",
        "      <td> 0</td>\n",
        "      <td> 0</td>\n",
        "      <td> 0.042409</td>\n",
        "      <td> 0.203311</td>\n",
        "      <td> 0.496780</td>\n",
        "      <td> Summary:\\nSummary:\\nReporting directly to the ...</td>\n",
        "    </tr>\n",
        "    <tr>\n",
        "      <th>J2X3GC6PFKDPL2ZSGC4</th>\n",
        "      <td> Insurance</td>\n",
        "      <td> Esurance Inc.</td>\n",
        "      <td> 4 Year Degree</td>\n",
        "      <td>       2 to 5 years</td>\n",
        "      <td>                        Data Analyst</td>\n",
        "      <td> San Francisco</td>\n",
        "      <td> Unknown</td>\n",
        "      <td> IND025</td>\n",
        "      <td>          Computer Systems Analysts</td>\n",
        "      <td> 15-1051.00</td>\n",
        "      <td> {u'Skill': [u'microsoft excel', u'oracle datab...</td>\n",
        "      <td> [Insurance]</td>\n",
        "      <td> 0</td>\n",
        "      <td> 0.052260</td>\n",
        "      <td> 0</td>\n",
        "      <td> 0</td>\n",
        "      <td> 0.070621</td>\n",
        "      <td> 0.122090</td>\n",
        "      <td> 0.244971</td>\n",
        "      <td> \\nSummary:\\nEsurance Data Management team is s...</td>\n",
        "    </tr>\n",
        "    <tr>\n",
        "      <th>J2X5GF6ZS5V2G74JFM7</th>\n",
        "      <td> Insurance</td>\n",
        "      <td> Esurance Inc.</td>\n",
        "      <td> 4 Year Degree</td>\n",
        "      <td>    Up to 3 year(s)</td>\n",
        "      <td> Associate Ecommerce Product Manager</td>\n",
        "      <td> San Francisco</td>\n",
        "      <td> Unknown</td>\n",
        "      <td> IND025</td>\n",
        "      <td>                 Marketing Managers</td>\n",
        "      <td> 11-2021.00</td>\n",
        "      <td>                                              None</td>\n",
        "      <td> [Insurance]</td>\n",
        "      <td> 0</td>\n",
        "      <td> 0.098667</td>\n",
        "      <td> 0</td>\n",
        "      <td> 0</td>\n",
        "      <td> 0.044444</td>\n",
        "      <td> 0.193999</td>\n",
        "      <td> 0.337110</td>\n",
        "      <td> Summary:\\nAssists with the definition, design,...</td>\n",
        "    </tr>\n",
        "  </tbody>\n",
        "</table>\n",
        "<p>5 rows \u00d7 20 columns</p>\n",
        "</div>"
       ],
       "metadata": {},
       "output_type": "pyout",
       "prompt_number": 31,
       "text": [
        "                    Categories        Company DegreeRequired  \\\n",
        "DID                                                            \n",
        "J2X2G16X09BD2SFL7LJ  Insurance  Esurance Inc.  4 Year Degree   \n",
        "J2X2NR6BRXD91SVV2PL  Insurance  Esurance Inc.  4 Year Degree   \n",
        "J2X2WT5XK9CWW01BTXN  Insurance  Esurance Inc.  4 Year Degree   \n",
        "J2X3GC6PFKDPL2ZSGC4  Insurance  Esurance Inc.  4 Year Degree   \n",
        "J2X5GF6ZS5V2G74JFM7  Insurance  Esurance Inc.  4 Year Degree   \n",
        "\n",
        "                     ExperienceRequired                             JobTitle  \\\n",
        "DID                                                                            \n",
        "J2X2G16X09BD2SFL7LJ  At least 5 year(s)                   Sr Product Manager   \n",
        "J2X2NR6BRXD91SVV2PL  At least 8 year(s)                  Development Manager   \n",
        "J2X2WT5XK9CWW01BTXN       Not Specified   Sr. MGR Compensation Benefits HRIS   \n",
        "J2X3GC6PFKDPL2ZSGC4        2 to 5 years                         Data Analyst   \n",
        "J2X5GF6ZS5V2G74JFM7     Up to 3 year(s)  Associate Ecommerce Product Manager   \n",
        "\n",
        "                      LocationCity ManagesOthersString IndustryCodes  \\\n",
        "DID                                                                    \n",
        "J2X2G16X09BD2SFL7LJ  San Francisco             Unknown        IND025   \n",
        "J2X2NR6BRXD91SVV2PL  San Francisco             Unknown        IND025   \n",
        "J2X2WT5XK9CWW01BTXN  San Francisco             Unknown        IND025   \n",
        "J2X3GC6PFKDPL2ZSGC4  San Francisco             Unknown        IND025   \n",
        "J2X5GF6ZS5V2G74JFM7  San Francisco             Unknown        IND025   \n",
        "\n",
        "                                      ONetFriendlyTitle    OnetCode  \\\n",
        "DID                                                                   \n",
        "J2X2G16X09BD2SFL7LJ                  Marketing Managers  11-2021.00   \n",
        "J2X2NR6BRXD91SVV2PL           Computer Systems Analysts  15-1051.00   \n",
        "J2X2WT5XK9CWW01BTXN  Compensation and Benefits Managers  11-3041.00   \n",
        "J2X3GC6PFKDPL2ZSGC4           Computer Systems Analysts  15-1051.00   \n",
        "J2X5GF6ZS5V2G74JFM7                  Marketing Managers  11-2021.00   \n",
        "\n",
        "                                                                Skills  \\\n",
        "DID                                                                      \n",
        "J2X2G16X09BD2SFL7LJ                                               None   \n",
        "J2X2NR6BRXD91SVV2PL  {u'Skill': [u'web development', u'html', u'c-s...   \n",
        "J2X2WT5XK9CWW01BTXN  {u'Skill': [u'Compensation & Benefits', u'Prob...   \n",
        "J2X3GC6PFKDPL2ZSGC4  {u'Skill': [u'microsoft excel', u'oracle datab...   \n",
        "J2X5GF6ZS5V2G74JFM7                                               None   \n",
        "\n",
        "                    CategoriesList  modals  infinitives  conditionals  \\\n",
        "DID                                                                     \n",
        "J2X2G16X09BD2SFL7LJ    [Insurance]       0     0.179786             0   \n",
        "J2X2NR6BRXD91SVV2PL    [Insurance]       0     0.226716             0   \n",
        "J2X2WT5XK9CWW01BTXN    [Insurance]       0     0.251060             0   \n",
        "J2X3GC6PFKDPL2ZSGC4    [Insurance]       0     0.052260             0   \n",
        "J2X5GF6ZS5V2G74JFM7    [Insurance]       0     0.098667             0   \n",
        "\n",
        "                     punctuation       you    length     score  \\\n",
        "DID                                                              \n",
        "J2X2G16X09BD2SFL7LJ            0  0.048591  0.177444  0.405821   \n",
        "J2X2NR6BRXD91SVV2PL            0  0.061275  0.140714  0.428704   \n",
        "J2X2WT5XK9CWW01BTXN            0  0.042409  0.203311  0.496780   \n",
        "J2X3GC6PFKDPL2ZSGC4            0  0.070621  0.122090  0.244971   \n",
        "J2X5GF6ZS5V2G74JFM7            0  0.044444  0.193999  0.337110   \n",
        "\n",
        "                                                                  text  \n",
        "DID                                                                     \n",
        "J2X2G16X09BD2SFL7LJ  Summary:\\nManage overall profitability and gro...  \n",
        "J2X2NR6BRXD91SVV2PL  Summary:\\nManages applications development act...  \n",
        "J2X2WT5XK9CWW01BTXN  Summary:\\nSummary:\\nReporting directly to the ...  \n",
        "J2X3GC6PFKDPL2ZSGC4  \\nSummary:\\nEsurance Data Management team is s...  \n",
        "J2X5GF6ZS5V2G74JFM7  Summary:\\nAssists with the definition, design,...  \n",
        "\n",
        "[5 rows x 20 columns]"
       ]
      }
     ],
     "prompt_number": 31
    },
    {
     "cell_type": "code",
     "collapsed": false,
     "input": [
      "persuasion_meta.sort('score', ascending=False, inplace=True)"
     ],
     "language": "python",
     "metadata": {},
     "outputs": [],
     "prompt_number": 32
    },
    {
     "cell_type": "code",
     "collapsed": false,
     "input": [
      "persuasion_cats = pd.merge(meta_categories, persuasion, left_index=True, right_index=True, how='left')\n",
      "# persuasion_cats.head()"
     ],
     "language": "python",
     "metadata": {},
     "outputs": [],
     "prompt_number": 33
    },
    {
     "cell_type": "code",
     "collapsed": false,
     "input": [
      "top_persuasive_cats = persuasion_cats.groupby('Category')['score'].mean()\n",
      "top_persuasive_cats.order(ascending=False)[:10]"
     ],
     "language": "python",
     "metadata": {},
     "outputs": [
      {
       "metadata": {},
       "output_type": "pyout",
       "prompt_number": 34,
       "text": [
        "Category\n",
        "Entry Level                  0.860192\n",
        "Training                     0.846823\n",
        "Professional Services        0.819033\n",
        "Restaurant - Food Service    0.770225\n",
        "Business Opportunity         0.726678\n",
        "Transportation               0.706018\n",
        "Banking                      0.694372\n",
        "Executive                    0.685232\n",
        "Telecommunications           0.679439\n",
        "Customer Service             0.666028\n",
        "Name: score, dtype: float64"
       ]
      }
     ],
     "prompt_number": 34
    },
    {
     "cell_type": "code",
     "collapsed": false,
     "input": [
      "persuasive_titles = persuasion_meta.groupby('ONetFriendlyTitle')['score'].mean()\n",
      "persuasive_titles.order(ascending=False)[:10]"
     ],
     "language": "python",
     "metadata": {},
     "outputs": [
      {
       "metadata": {},
       "output_type": "pyout",
       "prompt_number": 35,
       "text": [
        "ONetFriendlyTitle\n",
        "School Psychologists                        1.615196\n",
        "Computer Science Teachers, Postsecondary    1.281700\n",
        "New Accounts Clerks                         1.269987\n",
        "Media and Communication Workers             1.259822\n",
        "Service Station Attendants                  1.195384\n",
        "Bus Drivers, School                         1.164800\n",
        "Amusement and Recreation Attendants         1.156758\n",
        "Respiratory Therapists                      1.111412\n",
        "Personal and Home Care Aides                1.107768\n",
        "Tire Repairers and Changers                 1.097794\n",
        "Name: score, dtype: float64"
       ]
      }
     ],
     "prompt_number": 35
    },
    {
     "cell_type": "heading",
     "level": 1,
     "metadata": {},
     "source": [
      "Functions for demo analysis"
     ]
    },
    {
     "cell_type": "code",
     "collapsed": false,
     "input": [
      "def flatten(ll):\n",
      "    return [item for row in ll for item in row]"
     ],
     "language": "python",
     "metadata": {},
     "outputs": [],
     "prompt_number": 36
    },
    {
     "cell_type": "code",
     "collapsed": false,
     "input": [
      "def compareByCategory(category1, category2, metric):\n",
      "    cat1 = activities_cats[activities_cats.Category == category1]\n",
      "    cat1_metric = cat1[metric].tolist()\n",
      "    cat1_metric = flatten(cat1_metric)\n",
      "    cat1_fd = nltk.FreqDist(cat1_metric)\n",
      "#     print cat1_fd.items()[:20]\n",
      "    \n",
      "    cat2 = activities_cats[activities_cats.Category == category2]\n",
      "    cat2_metric = cat2[metric].tolist()\n",
      "    cat2_metric = flatten(cat2_metric)\n",
      "    cat2_fd = nltk.FreqDist(cat2_metric)\n",
      "#     print cat2_fd.items()[:20]\n",
      "    both = zip(cat1_fd.items()[:30], cat2_fd.items()[:30])\n",
      "    print '%-60s' % category1, '%-60s' % category2\n",
      "    print '#######################################             #######################################'\n",
      "    for items in both:\n",
      "        first = items[0][0][:55] + ' (' + str(items[0][1]) + ')'\n",
      "        second = items[1][0][:55] + ' (' + str(items[1][1]) + ')'\n",
      "        print '%-60s' % first, '%-60s' % second\n",
      "#         print '%-32s' % 'average sentence length (words)', '%-25s' % round(avg_sent_words,2)\n",
      "#         print '%-32s' % 'average sentence length (chars)', '%-25s' % round(avg_sent_chars,2)\n",
      "\n",
      "def compareEnvironByCategory(category1, category2, metric):\n",
      "    cat1 = environment_cats[environment_cats.Category == category1]\n",
      "    cat1_metric = cat1[metric].tolist()\n",
      "    cat1_metric = flatten(cat1_metric)\n",
      "    cat1_fd = nltk.FreqDist(cat1_metric)\n",
      "    \n",
      "    cat2 = environment_cats[environment_cats.Category == category2]\n",
      "    cat2_metric = cat2[metric].tolist()\n",
      "    cat2_metric = flatten(cat2_metric)\n",
      "    cat2_fd = nltk.FreqDist(cat2_metric)\n",
      "    both = zip(cat1_fd.items()[:30], cat2_fd.items()[:30])\n",
      "    print '%-60s' % category1, '%-60s' % category2\n",
      "    print '#######################################             #######################################'\n",
      "    for items in both:\n",
      "        first = items[0][0][:55] + ' (' + str(items[0][1]) + ')'\n",
      "        second = items[1][0][:55] + ' (' + str(items[1][1]) + ')'\n",
      "        print '%-60s' % first, '%-60s' % second\n",
      "\n",
      "\n",
      "def comparePersonalByCategory(category1, category2, metric):\n",
      "    cat1 = personal_char_cats[personal_char_cats.Category == category1]\n",
      "    cat1_metric = cat1[metric].tolist()\n",
      "    cat1_metric = flatten(cat1_metric)\n",
      "    cat1_fd = nltk.FreqDist(cat1_metric)\n",
      "    \n",
      "    cat2 = personal_char_cats[personal_char_cats.Category == category2]\n",
      "    cat2_metric = cat2[metric].tolist()\n",
      "    cat2_metric = flatten(cat2_metric)\n",
      "    cat2_fd = nltk.FreqDist(cat2_metric)\n",
      "    both = zip(cat1_fd.items()[:30], cat2_fd.items()[:30])\n",
      "    print '%-60s' % category1, '%-60s' % category2\n",
      "    print '#######################################             #######################################'\n",
      "    for items in both:\n",
      "        first = items[0][0][:55] + ' (' + str(items[0][1]) + ')'\n",
      "        second = items[1][0][:55] + ' (' + str(items[1][1]) + ')'\n",
      "        print '%-60s' % first, '%-60s' % second\n"
     ],
     "language": "python",
     "metadata": {},
     "outputs": [],
     "prompt_number": 96
    },
    {
     "cell_type": "code",
     "collapsed": false,
     "input": [
      "from IPython.html.widgets import interact, interactive, fixed\n",
      "from IPython.html import widgets\n",
      "from IPython.display import clear_output, display, HTML\n",
      "from collections import OrderedDict"
     ],
     "language": "python",
     "metadata": {},
     "outputs": [],
     "prompt_number": 38
    },
    {
     "cell_type": "code",
     "collapsed": false,
     "input": [
      "#get dictionary for all of the categories\n",
      "cat_dict = {}\n",
      "for cat in meta_categories.Category.unique():\n",
      "    cat_dict[cat] = cat\n",
      "cat_dict = OrderedDict(sorted(cat_dict.items()))"
     ],
     "language": "python",
     "metadata": {},
     "outputs": [],
     "prompt_number": 39
    },
    {
     "cell_type": "markdown",
     "metadata": {},
     "source": [
      "Functions to Compare by ONetFriendly job title"
     ]
    },
    {
     "cell_type": "code",
     "collapsed": false,
     "input": [
      "def compareByTitle(title1, title2, metric):\n",
      "    cat1 = activities_meta[activities_meta.ONetFriendlyTitle == title1]\n",
      "    cat1_metric = cat1[metric].tolist()\n",
      "    cat1_metric = flatten(cat1_metric)\n",
      "    cat1_fd = nltk.FreqDist(cat1_metric)\n",
      "#     print cat1_fd.items()[:20]\n",
      "    \n",
      "    cat2 = activities_meta[activities_meta.ONetFriendlyTitle == title2]\n",
      "    cat2_metric = cat2[metric].tolist()\n",
      "    cat2_metric = flatten(cat2_metric)\n",
      "    cat2_fd = nltk.FreqDist(cat2_metric)\n",
      "#     print cat2_fd.items()[:20]\n",
      "    both = zip(cat1_fd.items()[:30], cat2_fd.items()[:30])\n",
      "    print '%-60s' % title1, '%-60s' % title2\n",
      "    print '#######################################                 #######################################'\n",
      "    for items in both:\n",
      "        first = items[0][0][:55] + ' (' + str(items[0][1]) + ')'\n",
      "        second = items[1][0][:55] + ' (' + str(items[1][1]) + ')'\n",
      "        print '%-60s' % first, '%-60s' % second\n",
      "#         print '%-32s' % 'average sentence length (words)', '%-25s' % round(avg_sent_words,2)\n",
      "#         print '%-32s' % 'average sentence length (chars)', '%-25s' % round(avg_sent_chars,2)\n",
      "\n",
      "def compareEnvironByTitle(title1, title2, metric):\n",
      "    cat1 = environment_meta[environment_meta.ONetFriendlyTitle == title1]\n",
      "    cat1_metric = cat1[metric].tolist()\n",
      "    cat1_metric = flatten(cat1_metric)\n",
      "    cat1_fd = nltk.FreqDist(cat1_metric)\n",
      "#     print cat1_fd.items()[:20]\n",
      "    \n",
      "    cat2 = environment_meta[environment_meta.ONetFriendlyTitle == title2]\n",
      "    cat2_metric = cat2[metric].tolist()\n",
      "    cat2_metric = flatten(cat2_metric)\n",
      "    cat2_fd = nltk.FreqDist(cat2_metric)\n",
      "#     print cat2_fd.items()[:20]\n",
      "    both = zip(cat1_fd.items()[:30], cat2_fd.items()[:30])\n",
      "    print '%-60s' % title1, '%-60s' % title2\n",
      "    print '#######################################                 #######################################'\n",
      "    for items in both:\n",
      "        first = items[0][0][:55] + ' (' + str(items[0][1]) + ')'\n",
      "        second = items[1][0][:55] + ' (' + str(items[1][1]) + ')'\n",
      "        print '%-60s' % first, '%-60s' % second\n",
      "\n",
      "\n",
      "def comparePersonalByTitle(title1, title2, metric):\n",
      "    cat1 = personal_char_meta[personal_char_meta.ONetFriendlyTitle == title1]\n",
      "    cat1_metric = cat1[metric].tolist()\n",
      "    cat1_metric = flatten(cat1_metric)\n",
      "    cat1_fd = nltk.FreqDist(cat1_metric)\n",
      "#     print cat1_fd.items()[:20]\n",
      "    \n",
      "    cat2 = personal_char_meta[personal_char_meta.ONetFriendlyTitle == title2]\n",
      "    cat2_metric = cat2[metric].tolist()\n",
      "    cat2_metric = flatten(cat2_metric)\n",
      "    cat2_fd = nltk.FreqDist(cat2_metric)\n",
      "#     print cat2_fd.items()[:20]\n",
      "    both = zip(cat1_fd.items()[:30], cat2_fd.items()[:30])\n",
      "    print '%-60s' % title1, '%-60s' % title2\n",
      "    print '#######################################                 #######################################'\n",
      "    for items in both:\n",
      "        first = items[0][0][:55] + ' (' + str(items[0][1]) + ')'\n",
      "        second = items[1][0][:55] + ' (' + str(items[1][1]) + ')'\n",
      "        print '%-60s' % first, '%-60s' % second"
     ],
     "language": "python",
     "metadata": {},
     "outputs": [],
     "prompt_number": 105
    },
    {
     "cell_type": "code",
     "collapsed": false,
     "input": [
      "#get dictionary for all of the titles\n",
      "title_dict = {}\n",
      "for title in titles_for_display:\n",
      "    title_dict[title] = title\n",
      "title_dict = OrderedDict(sorted(title_dict.items()))"
     ],
     "language": "python",
     "metadata": {},
     "outputs": [],
     "prompt_number": 41
    },
    {
     "cell_type": "code",
     "collapsed": false,
     "input": [
      "#function to print out most and least persuasive job descriptions\n",
      "def formatAndPrint(i1, i2, i3):\n",
      "    comp1 = persuasion_meta.Company[i1]\n",
      "    title1 = persuasion_meta.JobTitle[i1]\n",
      "    print str(comp1)+ ', ' + title1\n",
      "    text1 = persuasion_meta.text[i1]\n",
      "    text1 = text1.replace('\\n',' ')\n",
      "    text1 = text1.lstrip().rstrip()\n",
      "    print text1 + '\\n'\n",
      "    comp2 = persuasion_meta.Company[i2]\n",
      "    title2 = persuasion_meta.JobTitle[i2]\n",
      "    print comp2 + ', ' + title2\n",
      "    text2 = persuasion_meta.text[i2]\n",
      "    text2 = text2.replace('\\n',' ')\n",
      "    text2 = text2.lstrip().rstrip()\n",
      "    print text2 + '\\n'\n",
      "    comp3 = persuasion_meta.Company[i3]\n",
      "    title3 = persuasion_meta.JobTitle[i3]\n",
      "    print comp3 + ', ' + title2\n",
      "    text3 = persuasion_meta.text[i3]\n",
      "    text3 = text3.replace('\\n',' ')\n",
      "    text3 = text3.lstrip().rstrip()\n",
      "    print text3 + '\\n'"
     ],
     "language": "python",
     "metadata": {},
     "outputs": [],
     "prompt_number": 42
    },
    {
     "cell_type": "code",
     "collapsed": false,
     "input": [
      "def createHistograms(category):\n",
      "    f, axarr = plt.subplots(2, sharex=True, figsize=(10,6))\n",
      "    sub = persuasion_cats[persuasion_cats.Category == category]\n",
      "    axarr[0].hist(sub.dropna().score, bins=15)\n",
      "    axarr[0].set_title(category, fontsize=14)\n",
      "    axarr[0].set_ylabel('Job Count')\n",
      "    axarr[1].hist(persuasion_cats.dropna().score, bins=20)\n",
      "    axarr[1].set_title('All Categories', fontsize=14)\n",
      "    axarr[1].set_xlabel('Persuasion Score', fontsize=14)\n",
      "    axarr[1].set_ylabel('Job Count')\n",
      "    f.suptitle('Persuasion Scores, ' + category + ' vs. Overall', fontsize=16)"
     ],
     "language": "python",
     "metadata": {},
     "outputs": [],
     "prompt_number": 43
    },
    {
     "cell_type": "heading",
     "level": 1,
     "metadata": {},
     "source": [
      "Demo"
     ]
    },
    {
     "cell_type": "heading",
     "level": 2,
     "metadata": {},
     "source": [
      "Work Activities by Job Category"
     ]
    },
    {
     "cell_type": "code",
     "collapsed": false,
     "input": [
      "j = interact(compareByCategory, category1 = cat_dict, category2 = cat_dict, metric = {'Nouns':'nouns', 'Adjectives':'adjs', 'Verbs':'verbs', 'Bigrams': 'activity_bigrams', 'Trigrams': 'activity_trigrams','Activities': 'lemma_work_activities'})"
     ],
     "language": "python",
     "metadata": {},
     "outputs": [
      {
       "output_type": "stream",
       "stream": "stdout",
       "text": [
        "Accounting                                                   Automotive                                                  \n",
        "#######################################             #######################################\n",
        "keep customers (22)                                          assist technician (34)                                      \n",
        "journal entries (17)                                         keep store (34)                                             \n",
        "customer service (13)                                        perform technical (34)                                      \n",
        "develop last (13)                                            specifications brake (34)                                   \n",
        "improve account (13)                                         store management (34)                                       \n",
        "last relationships (13)                                      technical activities (34)                                   \n",
        "learn environments (13)                                      technician mechanics (34)                                   \n",
        "provide support (13)                                         sales goals (27)                                            \n",
        "consistent communication (12)                                and/or transmission (20)                                    \n",
        "provide consistent (12)                                      change oil (20)                                             \n",
        "work closely (12)                                            include shock (20)                                          \n",
        "market techniques (11)                                       oil and/or (20)                                             \n",
        "ongoing support (11)                                         shock absorbers (20)                                        \n",
        "receive ongoing (11)                                         achieve individual (18)                                     \n",
        "support departments (11)                                     individual sales (18)                                       \n",
        "account professionals (10)                                   close sales (12)                                            \n",
        "building relationships (10)                                  credit applications (12)                                    \n",
        "cash flow (10)                                               customer service (12)                                       \n",
        "develop staff (10)                                           include run (12)                                            \n",
        "download workwire (10)                                       process transaction (12)                                    \n",
        "general ledger (10)                                          run credit (12)                                             \n",
        "online media (10)                                            repair vehicle (11)                                         \n",
        "sell online (10)                                             basic systems (10)                                          \n",
        "serve clients (10)                                           customer issues (10)                                        \n",
        "thrive building (10)                                         customer satisfaction (10)                                  \n",
        "account policy (9)                                           improve operational (10)                                    \n",
        "account roi (9)                                              initialize processes (10)                                   \n",
        "entrepreneurial point (9)                                    install parts (10)                                          \n",
        "implement strategies (9)                                     operational performance (10)                                \n",
        "prepare monthly (9)                                          repair basic (10)                                           \n"
       ]
      }
     ],
     "prompt_number": 106
    },
    {
     "cell_type": "heading",
     "level": 2,
     "metadata": {},
     "source": [
      "Work Activities by Job Title"
     ]
    },
    {
     "cell_type": "code",
     "collapsed": false,
     "input": [
      "k = interact(compareByTitle, title1 = title_dict, title2 = title_dict, metric = {'Nouns':'nouns', 'Adjectives':'adjs', 'Verbs':'verbs', 'Bigrams': 'activity_bigrams', 'Trigrams': 'activity_trigrams','Activities': 'lemma_work_activities'})"
     ],
     "language": "python",
     "metadata": {},
     "outputs": [
      {
       "output_type": "stream",
       "stream": "stdout",
       "text": [
        "Accountants                                                  Accountants                                                 \n",
        "#######################################                 #######################################\n",
        "assist the division controller (10)                          assist the division controller (10)                         \n",
        "experience the variety of clients (9)                        experience the variety of clients (9)                       \n",
        "learn environments (9)                                       learn environments (9)                                      \n",
        "provide support (9)                                          provide support (9)                                         \n",
        "develop last relationships (8)                               develop last relationships (8)                              \n",
        "forecast process and assists (8)                             forecast process and assists (8)                            \n",
        "ensure compliance (6)                                        ensure compliance (6)                                       \n",
        "provide direction (6)                                        provide direction (6)                                       \n",
        "account aspects (5)                                          account aspects (5)                                         \n",
        "bring an entrepreneurial point of view (5)                   bring an entrepreneurial point of view (5)                  \n",
        "respond to information (5)                                   respond to information (5)                                  \n",
        "thrive building relationships (5)                            thrive building relationships (5)                           \n",
        "account direction and analytical support (4)                 account direction and analytical support (4)                \n",
        "account principles (4)                                       account principles (4)                                      \n",
        "account staff (4)                                            account staff (4)                                           \n",
        "account transactions and reconciliation (4)                  account transactions and reconciliation (4)                 \n",
        "eliminate order adjustments and inaccurate client (4)        eliminate order adjustments and inaccurate client (4)       \n",
        "ensure accuracy (4)                                          ensure accuracy (4)                                         \n",
        "evaluate tax positions and use (4)                           evaluate tax positions and use (4)                          \n",
        "improve account processes and procedures (4)                 improve account processes and procedures (4)                \n",
        "prepare journal entries and document (4)                     prepare journal entries and document (4)                    \n",
        "prepare schedules (4)                                        prepare schedules (4)                                       \n",
        "support documentation and financial statements (4)           support documentation and financial statements (4)          \n",
        "account department (3)                                       account department (3)                                      \n",
        "adjust journal entries (3)                                   adjust journal entries (3)                                  \n",
        "become insightful (3)                                        become insightful (3)                                       \n",
        "credit analysis (3)                                          credit analysis (3)                                         \n",
        "develop a command of gaap (3)                                develop a command of gaap (3)                               \n",
        "develop proficiency (3)                                      develop proficiency (3)                                     \n",
        "ensure data integrity (3)                                    ensure data integrity (3)                                   \n"
       ]
      }
     ],
     "prompt_number": 107
    },
    {
     "cell_type": "heading",
     "level": 2,
     "metadata": {},
     "source": [
      "Work Environments by Job Category"
     ]
    },
    {
     "cell_type": "code",
     "collapsed": false,
     "input": [
      "j = interact(compareEnvironByCategory, category1 = cat_dict, \n",
      "             category2 = cat_dict, \n",
      "             metric = {'Nouns':'environ_nouns', 'Adjectives':'environ_adjs', \n",
      "                       'Verbs':'environ_verbs', 'Bigrams': 'environ_bigrams', \n",
      "                       'Trigrams': 'environ_trigrams','Environment': 'environ_string'})"
     ],
     "language": "python",
     "metadata": {},
     "outputs": [
      {
       "output_type": "stream",
       "stream": "stdout",
       "text": [
        "Accounting                                                   Accounting                                                  \n",
        "#######################################             #######################################\n",
        "outstanding team (17)                                        outstanding team (17)                                       \n",
        "corporate trainers (11)                                      corporate trainers (11)                                     \n",
        "weekly conference (11)                                       weekly conference (11)                                      \n",
        "strong commitment (9)                                        strong commitment (9)                                       \n",
        "work environment (9)                                         work environment (9)                                        \n",
        "economic social (7)                                          economic social (7)                                         \n",
        "environmental needs (7)                                      environmental needs (7)                                     \n",
        "fast paced (7)                                               fast paced (7)                                              \n",
        "financial reporting (6)                                      financial reporting (6)                                     \n",
        "paced environment (5)                                        paced environment (5)                                       \n",
        "small team (5)                                               small team (5)                                              \n",
        "income tax (4)                                               income tax (4)                                              \n",
        "integral part (4)                                            integral part (4)                                           \n",
        "regulatory reporting (4)                                     regulatory reporting (4)                                    \n",
        "regulatory reports (4)                                       regulatory reports (4)                                      \n",
        "corporate accounting (3)                                     corporate accounting (3)                                    \n",
        "environmental compliance (3)                                 environmental compliance (3)                                \n",
        "financial analysis (3)                                       financial analysis (3)                                      \n",
        "financial statement (3)                                      financial statement (3)                                     \n",
        "high quality (3)                                             high quality (3)                                            \n",
        "ideal candidate (3)                                          ideal candidate (3)                                         \n",
        "internal controls (3)                                        internal controls (3)                                       \n",
        "rich background (3)                                          rich background (3)                                         \n",
        "statement compilation (3)                                    statement compilation (3)                                   \n",
        "tax provision (3)                                            tax provision (3)                                           \n",
        "accounting teams (2)                                         accounting teams (2)                                        \n",
        "career opportunity (2)                                       career opportunity (2)                                      \n",
        "central member (2)                                           central member (2)                                          \n",
        "charitable transfer (2)                                      charitable transfer (2)                                     \n",
        "collection agencies (2)                                      collection agencies (2)                                     \n"
       ]
      }
     ],
     "prompt_number": 108
    },
    {
     "cell_type": "heading",
     "level": 2,
     "metadata": {},
     "source": [
      "Work Environments by Job Title"
     ]
    },
    {
     "cell_type": "code",
     "collapsed": false,
     "input": [
      "j = interact(compareEnvironByTitle, title1 = title_dict, title2 = title_dict, \n",
      "             metric = {'Nouns':'environ_nouns', 'Adjectives':'environ_adjs', \n",
      "                       'Verbs':'environ_verbs', 'Bigrams': 'environ_bigrams', \n",
      "                       'Trigrams': 'environ_trigrams','Environment': 'environ_string'})"
     ],
     "language": "python",
     "metadata": {},
     "outputs": [
      {
       "output_type": "stream",
       "stream": "stdout",
       "text": [
        "Accountants                                                  Accountants                                                 \n",
        "#######################################                 #######################################\n",
        "outstanding team (9)                                         outstanding team (9)                                        \n",
        "environmental compliance (5)                                 environmental compliance (5)                                \n",
        "income tax (4)                                               income tax (4)                                              \n",
        "internal controls (4)                                        internal controls (4)                                       \n",
        "proper internal (4)                                          proper internal (4)                                         \n",
        "statutory requirements (4)                                   statutory requirements (4)                                  \n",
        "corporate accounting (3)                                     corporate accounting (3)                                    \n",
        "dynamic environment (3)                                      dynamic environment (3)                                     \n",
        "fast paced (3)                                               fast paced (3)                                              \n",
        "financial statement (3)                                      financial statement (3)                                     \n",
        "high quality (3)                                             high quality (3)                                            \n",
        "statement compilation (3)                                    statement compilation (3)                                   \n",
        "tax provision (3)                                            tax provision (3)                                           \n",
        "accounting teams (2)                                         accounting teams (2)                                        \n",
        "audit team (2)                                               audit team (2)                                              \n",
        "continuous change (2)                                        continuous change (2)                                       \n",
        "corporate tax (2)                                            corporate tax (2)                                           \n",
        "direct placement (2)                                         direct placement (2)                                        \n",
        "dynamic nature (2)                                           dynamic nature (2)                                          \n",
        "employment opportunities (2)                                 employment opportunities (2)                                \n",
        "external auditors (2)                                        external auditors (2)                                       \n",
        "factory operations (2)                                       factory operations (2)                                      \n",
        "financial reporting (2)                                      financial reporting (2)                                     \n",
        "general operations (2)                                       general operations (2)                                      \n",
        "high level (2)                                               high level (2)                                              \n",
        "integral component (2)                                       integral component (2)                                      \n",
        "local tax (2)                                                local tax (2)                                               \n",
        "multiple projects (2)                                        multiple projects (2)                                       \n",
        "operations talent (2)                                        operations talent (2)                                       \n",
        "paced environment (2)                                        paced environment (2)                                       \n"
       ]
      }
     ],
     "prompt_number": 109
    },
    {
     "cell_type": "heading",
     "level": 2,
     "metadata": {},
     "source": [
      "Personal Characteristics by Job Category"
     ]
    },
    {
     "cell_type": "code",
     "collapsed": false,
     "input": [
      "j = interact(comparePersonalByTitle, title1 = title_dict, title2 = title_dict, \n",
      "             metric = {'Nouns':'personal_nouns', 'Adjectives':'personal_adjs', \n",
      "                       'Verbs':'personal_verbs', 'Bigrams': 'personal_bigrams', \n",
      "                       'Trigrams': 'personal_trigrams','Characteristics': 'personal_string'})"
     ],
     "language": "python",
     "metadata": {},
     "outputs": [
      {
       "output_type": "stream",
       "stream": "stdout",
       "text": [
        "Accountants                                                  Accountants                                                 \n",
        "#######################################                 #######################################\n",
        "exhaustive list (5)                                          exhaustive list (5)                                         \n",
        "general nature (5)                                           general nature (5)                                          \n",
        "ideal candidate (4)                                          ideal candidate (4)                                         \n",
        "strong communication skills (3)                              strong communication skills (3)                             \n",
        "strong knowledge (3)                                         strong knowledge (3)                                        \n",
        "successful candidate (3)                                     successful candidate (3)                                    \n",
        "individual taxation (2)                                      individual taxation (2)                                     \n",
        "integral part (2)                                            integral part (2)                                           \n",
        "new and exciting career (2)                                  new and exciting career (2)                                 \n",
        "operational organizational and analytical skills (2)         operational organizational and analytical skills (2)        \n",
        "public accounting (2)                                        public accounting (2)                                       \n",
        "relevant experience (2)                                      relevant experience (2)                                     \n",
        "administrative and day-to-day financial support (1)          administrative and day-to-day financial support (1)         \n",
        "analytical and critical thinking skills (1)                  analytical and critical thinking skills (1)                 \n",
        "analytical skills (1)                                        analytical skills (1)                                       \n",
        "approachable and professional demeanor (1)                   approachable and professional demeanor (1)                  \n",
        "basic research (1)                                           basic research (1)                                          \n",
        "close process (1)                                            close process (1)                                           \n",
        "common sense (1)                                             common sense (1)                                            \n",
        "curious ambitious team-player (1)                            curious ambitious team-player (1)                           \n",
        "digital advertising knowledge (1)                            digital advertising knowledge (1)                           \n",
        "dynamic start (1)                                            dynamic start (1)                                           \n",
        "efficient standard (1)                                       efficient standard (1)                                      \n",
        "excellent interpersonal skills (1)                           excellent interpersonal skills (1)                          \n",
        "excellent presentation (1)                                   excellent presentation (1)                                  \n",
        "excellent problem-solving skills (1)                         excellent problem-solving skills (1)                        \n",
        "excellent process management skills (1)                      excellent process management skills (1)                     \n",
        "excellent reconciliation skills (1)                          excellent reconciliation skills (1)                         \n",
        "exceptional client service (1)                               exceptional client service (1)                              \n",
        "exceptional communication skills (1)                         exceptional communication skills (1)                        \n"
       ]
      }
     ],
     "prompt_number": 110
    },
    {
     "cell_type": "heading",
     "level": 2,
     "metadata": {},
     "source": [
      "Personal Characteristics by Job Title"
     ]
    },
    {
     "cell_type": "code",
     "collapsed": false,
     "input": [
      "j = interact(comparePersonalByCategory, category1 = cat_dict, \n",
      "             category2 = cat_dict, \n",
      "             metric = {'Nouns':'personal_nouns', 'Adjectives':'personal_adjs', \n",
      "                       'Verbs':'personal_verbs', 'Bigrams': 'personal_bigrams', \n",
      "                       'Trigrams': 'personal_trigrams','Characteristics': 'personal_string'})"
     ],
     "language": "python",
     "metadata": {},
     "outputs": [
      {
       "output_type": "stream",
       "stream": "stdout",
       "text": [
        "Accounting                                                   Accounting                                                  \n",
        "#######################################             #######################################\n",
        "ideal candidate (14)                                         ideal candidate (14)                                        \n",
        "successful candidate (8)                                     successful candidate (8)                                    \n",
        "verbal and written communication skills (8)                  verbal and written communication skills (8)                 \n",
        "consistent communication (6)                                 consistent communication (6)                                \n",
        "outstanding customer service (6)                             outstanding customer service (6)                            \n",
        "new career (5)                                               new career (5)                                              \n",
        "challenging yet rewarding career (4)                         challenging yet rewarding career (4)                        \n",
        "cumulative expertise (4)                                     cumulative expertise (4)                                    \n",
        "immediate consideration (4)                                  immediate consideration (4)                                 \n",
        "strong communication skills (4)                              strong communication skills (4)                             \n",
        "strong leadership (4)                                        strong leadership (4)                                       \n",
        "strong organizational skills (4)                             strong organizational skills (4)                            \n",
        "analytical skills (3)                                        analytical skills (3)                                       \n",
        "exhaustive list (3)                                          exhaustive list (3)                                         \n",
        "general nature (3)                                           general nature (3)                                          \n",
        "oral communication skills (3)                                oral communication skills (3)                               \n",
        "professional and personal goals (3)                          professional and personal goals (3)                         \n",
        "strong candidate (3)                                         strong candidate (3)                                        \n",
        "strong knowledge (3)                                         strong knowledge (3)                                        \n",
        "verbal communication skills (3)                              verbal communication skills (3)                             \n",
        "critical for success (2)                                     critical for success (2)                                    \n",
        "difficult customers (2)                                      difficult customers (2)                                     \n",
        "excellent career opportunity (2)                             excellent career opportunity (2)                            \n",
        "excellent communication (2)                                  excellent communication (2)                                 \n",
        "excellent interpersonal skills (2)                           excellent interpersonal skills (2)                          \n",
        "excellent organizational skills (2)                          excellent organizational skills (2)                         \n",
        "exclusive basis (2)                                          exclusive basis (2)                                         \n",
        "extensive business partnering (2)                            extensive business partnering (2)                           \n",
        "fantastic long-term potential (2)                            fantastic long-term potential (2)                           \n",
        "financial reporting (2)                                      financial reporting (2)                                     \n"
       ]
      }
     ],
     "prompt_number": 111
    },
    {
     "cell_type": "heading",
     "level": 2,
     "metadata": {},
     "source": [
      "Job Description Persuasion by Job Category"
     ]
    },
    {
     "cell_type": "markdown",
     "metadata": {},
     "source": [
      "**Most persuasive job descriptions**"
     ]
    },
    {
     "cell_type": "code",
     "collapsed": false,
     "input": [
      "formatAndPrint(1, 7, 10)"
     ],
     "language": "python",
     "metadata": {},
     "outputs": [
      {
       "output_type": "stream",
       "stream": "stdout",
       "text": [
        "nan, Sales - Recruiting\n",
        "Do you want to work in a RED HOT space? Big Data is it! We are a small and talented team of professionals that developed a product that adds immediate value to third party recruiting agencies. We have totally unique product and our customers love it! If you love the recruiting industry and you know what it is like to \"work a desk\", we want to talk to you.\n",
        "\n",
        "Ellison Technologies, Inc., Jr Sales Engineer - Sacramento / Northern Nevada\n",
        "Why this role matters to you: Empowerment! We empower our sales professionals to make decisions regarding how to grow your territory and we tie a strong compensation structure to the results of those decisions. What's more, you will have access to an extremely competent technical team that can support your needs on virtually any deal you may put together. Additionally, you will work in a very diverse market that is growing allowing you ample opportunities to 'think out of the box' when devising solutions that drive your clients' business objectives.\n",
        "\n",
        "Jamba Juice, Jr Sales Engineer - Sacramento / Northern Nevada\n",
        "SQUEEZE THE DAY Are you ready for a Whirl Class Job at Jamba? Why go to work when you can come to Jamba! If you are an energetic and ambitious individual looking for a career with an organization that can give you the attention, success and career satisfaction you deserve, join our management team at Jamba Juice! We are seeking positive and outgoing Restaurant Operations Managers to manage the overall operations of a store, including team member leadership and development, sales performance, customer service, community involvement and execution of brand excellence. As a Restaurant Operations Manager with Jamba Juice, you will create and sustain a highly productive store environment as you coach for excellent team member performance and drive customer service and satisfaction.\n",
        "\n"
       ]
      }
     ],
     "prompt_number": 46
    },
    {
     "cell_type": "markdown",
     "metadata": {},
     "source": [
      "**Least Persuasive Job Descriptions**"
     ]
    },
    {
     "cell_type": "code",
     "collapsed": false,
     "input": [
      "formatAndPrint(5010, 5012, 5005)"
     ],
     "language": "python",
     "metadata": {},
     "outputs": [
      {
       "output_type": "stream",
       "stream": "stdout",
       "text": [
        "About Web, Java Developer\n",
        "AboutWeb is looking for an Experienced Java Developer The position is located in San Francisco, CA Responsible for the definition, design, construction, integration, testing, and support of reliable and reusable software solutions, addressing business opportunities. Includes systems analysis, creation of specifications, coding, testing, and implementation of application programs and data interfaces. Includes Java, JSP, J2EE, JDBC, EJB, JavaScript, C++, Visual Basic, COM, DCOM, ActiveX, ASP, HTML, DHTML, XML, ColdFusion, Visual Age, WebSphere, .NET, etc. Service Experience 5+ years of experience with Financial Services clients Coordinating others work while involved with multiple work streams Served as lead BSA on multiple project lifecycles; Significant experience in industry (3+ years) 5+ years of project experience in the quality assurance and testing phases or projects Financial Institution experienced desired Deep knowledge of diverse technologies and new and current architectures Skills in object, data, and / or process modeling, business process design (5yrs.+) Lean/Agile development experience (3+ yrs) QA experience preferred Ability to effectively communicate across multiple levels (Executive Sponsors to team members); Ability to communicate technical issues to non-technical individuals Ability to influence multiple levels on highly technical issues and challenges Demonstrated experience to influence and coordinate third parties and suppliers Please submit Qualified Candidates to [Click Here to Email Your Resum] #AWCB\n",
        "\n",
        "Six Flags Discovery Kingdom, Security\n",
        "The purpose of this position is to protect employees, Guests, and company property; assist Guests and employees with questions and problems in a friendly and engaging manner. Duties and responsibilities include enforcing laws and park policy, area patrol, gate inspection, parking lot patrol, queue line patrol, concert duty, post duty, and paperwork.\n",
        "\n",
        "Robert Half Finance & Accounting U.S, Security\n",
        "Ref ID: 00420-135589 Classification: Accountant - Staff Compensation: $100,000.00 to $120,000.00 per year Position: Corporate Payroll Manager Reports into Assistant Controller -Have at least 15 years + managerial experience in Payroll function covering end to end process -Manage a team of 9 payroll staff -Oversees multi state payroll for 5000 employees with over 50 pay groups -Understands and uses ADP Enterprises Version 4, Report Smith, Kronos. Have ADP Vantage experience. -Manage end to end payroll transmission process-biweekly -Manage month end payroll close, including reviewing JVs and reconciliation of related payroll accounts -Be the technical lead for all payroll matters -File quarterly and year end taxes to states for all PR related taxes and file other compliance reports -Provide hands on support to payroll team during busy transmission weeks -Be the lead to represent payroll on special projects, system upgrades, acquisitions, etc. -Strong communication skills and work ethics -System implementation experience preferred All interested applicants, please forward your resume to [Click Here to Email Your Resum]\n",
        "\n"
       ]
      }
     ],
     "prompt_number": 47
    },
    {
     "cell_type": "markdown",
     "metadata": {},
     "source": [
      "**Most Persuasive Job Categories**"
     ]
    },
    {
     "cell_type": "code",
     "collapsed": false,
     "input": [
      "top_persuasive_cats.order(ascending=False)[:10]"
     ],
     "language": "python",
     "metadata": {},
     "outputs": [
      {
       "metadata": {},
       "output_type": "pyout",
       "prompt_number": 48,
       "text": [
        "Category\n",
        "Entry Level                  0.860192\n",
        "Training                     0.846823\n",
        "Professional Services        0.819033\n",
        "Restaurant - Food Service    0.770225\n",
        "Business Opportunity         0.726678\n",
        "Transportation               0.706018\n",
        "Banking                      0.694372\n",
        "Executive                    0.685232\n",
        "Telecommunications           0.679439\n",
        "Customer Service             0.666028\n",
        "Name: score, dtype: float64"
       ]
      }
     ],
     "prompt_number": 48
    },
    {
     "cell_type": "markdown",
     "metadata": {},
     "source": [
      "**Least Persuasive Job Categories**"
     ]
    },
    {
     "cell_type": "code",
     "collapsed": false,
     "input": [
      "top_persuasive_cats.order()[:10]"
     ],
     "language": "python",
     "metadata": {},
     "outputs": [
      {
       "metadata": {},
       "output_type": "pyout",
       "prompt_number": 49,
       "text": [
        "Category\n",
        "Veterinary Services     0.328512\n",
        "Legal Admin             0.364226\n",
        "Government              0.385935\n",
        "Government - Federal    0.394378\n",
        "Science                 0.396968\n",
        "Nurse                   0.434622\n",
        "Research                0.441574\n",
        "Manufacturing           0.448637\n",
        "Legal                   0.451594\n",
        "Grocery                 0.451605\n",
        "Name: score, dtype: float64"
       ]
      }
     ],
     "prompt_number": 49
    },
    {
     "cell_type": "markdown",
     "metadata": {},
     "source": [
      "**Persuasion Distributions**"
     ]
    },
    {
     "cell_type": "code",
     "collapsed": false,
     "input": [
      "j = interact(createHistograms, category = cat_dict)"
     ],
     "language": "python",
     "metadata": {},
     "outputs": [
      {
       "metadata": {},
       "output_type": "display_data",
       "png": "[encoded data removed]",
       "text": [
        "<matplotlib.figure.Figure at 0x11a137e90>"
       ]
      }
     ],
     "prompt_number": 50
    }
   ],
   "metadata": {}
  }
 ]
}